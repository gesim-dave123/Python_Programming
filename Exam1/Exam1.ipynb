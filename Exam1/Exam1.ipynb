{
 "cells": [
  {
   "cell_type": "markdown",
   "id": "072ff01e-4991-46e4-91cb-1467afd90b1e",
   "metadata": {},
   "source": [
    "# 1st Long Exam 9/10/2025"
   ]
  },
  {
   "cell_type": "markdown",
   "id": "956fcdb5-d462-4672-823e-c1a32f666e4d",
   "metadata": {},
   "source": [
    "# Christian Dave Gesim ID:23767973"
   ]
  },
  {
   "cell_type": "markdown",
   "id": "aad4afe5-a96c-43fc-89a6-65da10d85ce4",
   "metadata": {},
   "source": [
    "# Question 1"
   ]
  },
  {
   "cell_type": "code",
   "execution_count": 1,
   "id": "366c5c4d-f35c-488a-a5b1-6bf634cdb006",
   "metadata": {},
   "outputs": [
    {
     "name": "stdin",
     "output_type": "stream",
     "text": [
      "Enter your name:  dave\n"
     ]
    },
    {
     "name": "stdout",
     "output_type": "stream",
     "text": [
      "Hello dave!\n"
     ]
    }
   ],
   "source": [
    "name = input(\"Enter your name: \")\n",
    "print(f\"Hello {name}!\")"
   ]
  },
  {
   "cell_type": "markdown",
   "id": "08edba0f-3d38-474a-ba5d-bc30431161cb",
   "metadata": {},
   "source": [
    "# Question 2"
   ]
  },
  {
   "cell_type": "code",
   "execution_count": 3,
   "id": "6f8832c8-175f-4210-b7c6-0a505cd9f87d",
   "metadata": {},
   "outputs": [
    {
     "name": "stdin",
     "output_type": "stream",
     "text": [
      "Enter a number 5\n"
     ]
    },
    {
     "name": "stdout",
     "output_type": "stream",
     "text": [
      "The sum of all integers from 1 to 5 is 15.0\n"
     ]
    }
   ],
   "source": [
    "num = int(input(\"Enter a number\"))\n",
    "n = abs(num)\n",
    "result = (n *(n + 1))/2\n",
    "print(f\"The sum of all integers from 1 to {n} is {result}\")"
   ]
  },
  {
   "cell_type": "markdown",
   "id": "ad376a7f-d820-4773-bbe3-ee81f7670341",
   "metadata": {},
   "source": [
    "# Question 3"
   ]
  },
  {
   "cell_type": "code",
   "execution_count": 4,
   "id": "8bc3b20f-51ee-4656-8c4b-887aa94e0a78",
   "metadata": {},
   "outputs": [
    {
     "name": "stdin",
     "output_type": "stream",
     "text": [
      "Enter a character:  e\n"
     ]
    },
    {
     "name": "stdout",
     "output_type": "stream",
     "text": [
      "The letter e is a vowel\n"
     ]
    }
   ],
   "source": [
    "char = input(\"Enter a character: \")\n",
    "i = char.lower()\n",
    "if i == \"a\" or i == \"e\" or i == \"i\" or i == \"o\" or i == \"u\":\n",
    "    print(f\"The letter {i} is a vowel\")\n",
    "elif i == \"y\":\n",
    "    print(\"Sometimes y is a vowel and sometimes y is a consonant\")\n",
    "else:\n",
    "    print(f\"The letter {i} is a consonant\")"
   ]
  },
  {
   "cell_type": "markdown",
   "id": "cc758f7b-b43c-4d93-8a3f-6f3b31756878",
   "metadata": {},
   "source": [
    "# Question 4"
   ]
  },
  {
   "cell_type": "code",
   "execution_count": 5,
   "id": "35495cc7-ad8b-4fe5-bfbb-2a9dec53c487",
   "metadata": {},
   "outputs": [
    {
     "name": "stdin",
     "output_type": "stream",
     "text": [
      "Enter a word:  civic\n"
     ]
    },
    {
     "name": "stdout",
     "output_type": "stream",
     "text": [
      "The word civic is a palindrome\n"
     ]
    }
   ],
   "source": [
    "word = input(\"Enter a word: \")\n",
    "reversed_word = word[::-1]\n",
    "if word == reversed_word:\n",
    "    print(f\"The word {word} is a palindrome\")\n",
    "else:\n",
    "    print(f\"The word {word} is not a palindrome\")"
   ]
  },
  {
   "cell_type": "markdown",
   "id": "167b1c80-31bf-43d4-a2e6-a29745788178",
   "metadata": {},
   "source": [
    "# Question 5"
   ]
  },
  {
   "cell_type": "code",
   "execution_count": 6,
   "id": "e64adce7-3815-4fc5-b3cd-c8da24c48ac3",
   "metadata": {},
   "outputs": [
    {
     "name": "stdin",
     "output_type": "stream",
     "text": [
      "Enter first value: 23\n",
      "Enter second value: 34\n"
     ]
    },
    {
     "name": "stdout",
     "output_type": "stream",
     "text": [
      "The hypothenus is 842.50\n"
     ]
    }
   ],
   "source": [
    "def findHypothenus(num1,num2):\n",
    "    if num1 < num2:\n",
    "        a,b = num1, num2\n",
    "    else:\n",
    "        a,b = num2, num1\n",
    "    return(a**2 + b**2)**1/2\n",
    "num1,num2 = float(input(\"Enter first value:\")), float(input(\"Enter second value:\"))\n",
    "result = findHypothenus(num1,num2)\n",
    "print(f\"The hypothenus is {result:.2f}\")"
   ]
  },
  {
   "cell_type": "code",
   "execution_count": null,
   "id": "0d9e9276-1d6c-4242-be64-94c2baeb4120",
   "metadata": {},
   "outputs": [],
   "source": []
  }
 ],
 "metadata": {
  "kernelspec": {
   "display_name": "Python 3 (ipykernel)",
   "language": "python",
   "name": "python3"
  },
  "language_info": {
   "codemirror_mode": {
    "name": "ipython",
    "version": 3
   },
   "file_extension": ".py",
   "mimetype": "text/x-python",
   "name": "python",
   "nbconvert_exporter": "python",
   "pygments_lexer": "ipython3",
   "version": "3.13.5"
  }
 },
 "nbformat": 4,
 "nbformat_minor": 5
}
