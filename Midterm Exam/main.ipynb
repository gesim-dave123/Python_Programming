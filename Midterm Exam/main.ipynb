{
 "cells": [
  {
   "cell_type": "markdown",
   "id": "c65d382e-6143-43f6-bbf1-80e02d6e858f",
   "metadata": {},
   "source": [
    "# Q1. String Normalizer & Finder"
   ]
  },
  {
   "cell_type": "markdown",
   "id": "78ca6354-a5d8-46f7-a052-7308cb252da2",
   "metadata": {},
   "source": [
    "Write a function normalize_and_find(text:str, needle: str) -> int that: (1) trims whitespace on both ends, (2) converts to lowercase, then (3) returns the index of the first occurrence of needle usinga safe search (return −1 if not found). Discuss alternatives (find vs. index), and how your choice affects error handling. Anchor concepts: stripping, case conversion,\n",
    "find/replace, string immutability. Reference: :contentReference[oaicite:6]index=6"
   ]
  },
  {
   "cell_type": "markdown",
   "id": "73c0193c-a783-45ad-95f5-3d0de4723bd4",
   "metadata": {},
   "source": [
    "# Prompt (Paste verbatim)"
   ]
  },
  {
   "cell_type": "markdown",
   "id": "20feff97-64f8-47a5-8525-6ce7eb0eae9b",
   "metadata": {},
   "source": [
    "Write a Python function called normalize_and_find that accepts two parameters: word (a string) and needle (a substring). The function should:\n",
    "1.Trim whitespace from both ends of word.\n",
    "2.Convert word to lowercase.\n",
    "3.Return the index of the first occurrence of needle in word using a safe search (return -1 if needle is not found)."
   ]
  },
  {
   "cell_type": "markdown",
   "id": "0738b7e1-ec8e-4521-a3a9-95a70a68f361",
   "metadata": {},
   "source": [
    "# ChatGPT Code (Paste Verbatim)"
   ]
  },
  {
   "cell_type": "code",
   "execution_count": 3,
   "id": "2b75000e-5210-4c7a-8b62-f8414310ab38",
   "metadata": {},
   "outputs": [
    {
     "name": "stdout",
     "output_type": "stream",
     "text": [
      "6\n",
      "2\n",
      "-1\n"
     ]
    }
   ],
   "source": [
    "def normalize_and_find(word, needle):\n",
    "    # Step 1: Trim whitespace from both ends\n",
    "    word = word.strip()\n",
    "    \n",
    "    # Step 2: Convert to lowercase\n",
    "    word = word.lower()\n",
    "    \n",
    "    # Step 3: Safe search for the substring\n",
    "    index = word.find(needle.lower())  # also lowercase needle for consistency\n",
    "    \n",
    "    # Step 4: Return index (or -1 if not found)\n",
    "    return index\n",
    "\n",
    "print(normalize_and_find(\"  Hello World  \", \"world\"))  # Output: 6\n",
    "print(normalize_and_find(\"Python\", \"thon\"))            # Output: 2\n",
    "print(normalize_and_find(\"Test\", \"xyz\"))  "
   ]
  },
  {
   "cell_type": "markdown",
   "id": "6f0c9929-6dae-44b5-849c-19f6284d8737",
   "metadata": {},
   "source": [
    "# Critique"
   ]
  },
  {
   "cell_type": "markdown",
   "id": "ca7206ad-ae68-4339-9e96-c17e0878363e",
   "metadata": {},
   "source": [
    "CORRECTNESS:\n",
    "The code is able to strip and convert the word into lowercase properly. Is able to return the index of the first occureence of the needle.\n",
    "\n",
    "Reference : Lecture_1 - These functions are string functions where it is used to manipulate anad manage strings\n",
    "\n",
    "COMPLEXITY:\n",
    "O(n)time, O(1) space. This function is optimal because it performs a simple linear search to find the first occurrence of the needle substring within the word string. The find() method internally iterates through the string once, making it efficient. Additionally, it uses constant extra space since no additional data structures are created.\n",
    "\n",
    "ROBUSTNESS :\n",
    "The function works well and doesn’t crash. It trims spaces, ignores case, and safely returns -1 if the substring isn’t found. However, it could be stronger if it checked whether both inputs are strings.\n",
    "\n",
    "READABILITY: \n",
    "The funtion is easy to read and the naming conventions are clear.\n",
    "\n",
    "FAITHFULNESS: \n",
    "It does exactly what it’s supposed to do find the first occurrence of a substring after cleaning and lowering the text. The steps follow the problem’s instructions correctly.However it needs more improvements specifically an input checker to make sure that the inputs are all strings"
   ]
  },
  {
   "cell_type": "markdown",
   "id": "622d9eb7-67df-47f9-9b7d-f8b0e5c92f1b",
   "metadata": {},
   "source": [
    "# Improved Code"
   ]
  },
  {
   "cell_type": "code",
   "execution_count": 38,
   "id": "3210ac07-9e1e-4f0e-ac34-cc903ecfa3f6",
   "metadata": {},
   "outputs": [
    {
     "name": "stdout",
     "output_type": "stream",
     "text": [
      "6\n",
      "2\n",
      "Error: Both inputs must be strings.\n"
     ]
    }
   ],
   "source": [
    "def normalize_and_find(word, needle) -> int:\n",
    "    if not isinstance(word, str) or not isinstance(needle, str):\n",
    "        return\"Error: Both inputs must be strings.\"\n",
    "\n",
    "    word = word.strip().lower()\n",
    "    return word.find(needle.lower())\n",
    "\n",
    "\n",
    "print(normalize_and_find(\"  Hello World  \", \"world\")) \n",
    "print(normalize_and_find(\"Python\", \"thon\"))            \n",
    "print(normalize_and_find(343434, \"xyz\"))\n"
   ]
  },
  {
   "cell_type": "markdown",
   "id": "4c7a0d16-802e-4359-af3f-f238835fe9de",
   "metadata": {},
   "source": [
    "# Q2.  Leetspeak Translator (Parametric)"
   ]
  },
  {
   "cell_type": "markdown",
   "id": "69871c4c-d1c0-46fb-bd1c-bbc638f620ff",
   "metadata": {},
   "source": [
    "Generalize our leetspeak idea: write translate(text:\n",
    "str, mapping: dict[str,str]) -> str that applies a mapping (e.g., {’a’:’4’,’e’:’3’,...})\n",
    "over lowercase letters only, leaving others unchanged. Explain why strings are immutable and show an efficient approach (e.g., list join vs. repeated concatenation).\n",
    "Anchor concepts: replace, iteration strategies, efficiency. Reference: :contentReference[oaicite:7]index=7\n"
   ]
  },
  {
   "cell_type": "markdown",
   "id": "8728974a-07b7-4781-a8d0-12aa711a07cd",
   "metadata": {},
   "source": [
    "# Prompt (Paste verbatim)"
   ]
  },
  {
   "cell_type": "code",
   "execution_count": null,
   "id": "4fb5dcff-fd12-4cba-8877-e3913f4a8181",
   "metadata": {},
   "outputs": [],
   "source": [
    "Write a Python function translate(text, mapping: dict[str, str]) that applies the given character mapping (e.g., {'a': '4', 'e': '3', ...}) to all lowercase letters in text, leaving all other characters unchanged. \n",
    "Then, explain why strings in Python are immutable, and demonstrate an efficient approach to perform the translation without repeatedly creating new string objects."
   ]
  },
  {
   "cell_type": "markdown",
   "id": "4d2433ef-7b60-422e-9416-7a033b9d8b79",
   "metadata": {},
   "source": [
    "# ChatGPT Code (Paste Verbatim)"
   ]
  },
  {
   "cell_type": "code",
   "execution_count": 45,
   "id": "51880800-fcdc-4b34-bf75-c0e6c8b76c2d",
   "metadata": {},
   "outputs": [
    {
     "name": "stdout",
     "output_type": "stream",
     "text": [
      "h3ll0 w0rld\n",
      "Pyth0n 1s 4m4z1ng!\n"
     ]
    }
   ],
   "source": [
    "def translate(text, mapping):\n",
    "    # Use a list to collect characters (efficient)\n",
    "    result = []\n",
    "\n",
    "    for ch in text:\n",
    "        # Replace only if character is in the mapping\n",
    "        if ch in mapping:\n",
    "            result.append(mapping[ch])\n",
    "        else:\n",
    "            result.append(ch)\n",
    "\n",
    "    # Join the list into a single string once\n",
    "    return ''.join(result)\n",
    "\n",
    "\n",
    "# Example usage\n",
    "mapping = {'a': '4', 'e': '3', 'i': '1', 'o': '0'}\n",
    "print(translate(\"hello world\", mapping))  # Output: h3ll0 w0rld\n",
    "print(translate(\"Python is amazing!\", mapping))  # Output: Python 1s 4m4z1ng!\n",
    "\n",
    "#Strings in Python are immutable, meaning once a string is created, it cannot be changed.\n",
    "#Any operation that appears to modify a string — like concatenation, replacement, or slicing — actually creates a new string object in memory.\n"
   ]
  },
  {
   "cell_type": "markdown",
   "id": "d6ee6712-fed6-4c68-9da1-c84a0a485495",
   "metadata": {},
   "source": [
    "# Critique"
   ]
  },
  {
   "cell_type": "markdown",
   "id": "feb771d4-303a-4cc2-b97e-1c271595f69e",
   "metadata": {},
   "source": [
    "CORRECTNESS:\n",
    "The function correctly applies the given character mapping to all lowercase letters while leaving other characters unchanged. Each character is checked against the mapping dictionary, and replacements are done accurately. The use of ''.join() ensures that the final output string is properly combined.\n",
    "\n",
    "COMPLEXITY:\n",
    "It is both optimal in both time and space where it performs iteration to each of the character in the text and also the use of list to store the intermediate results. contentReference : Lectture_5 (Tuples, List and Dictionaries)\n",
    "\n",
    "ROBUSTNESS: \n",
    "The code is robust for valid input, but could be safer with input validation.\n",
    "\n",
    "READABILITY:\n",
    "The function is highly readable and beginner-friendly with clar and accurate naming convention and as well as comments\n",
    "FAITHFULNESS: The function fully follows the problem’s instructions it maps lowercase letters, preserves other characters, and doesn’t modify the original string (respecting immutability).\n"
   ]
  },
  {
   "cell_type": "markdown",
   "id": "323c4915-bf3f-45d1-a84f-54b6bf67b7bb",
   "metadata": {},
   "source": [
    "# Improved Code"
   ]
  },
  {
   "cell_type": "code",
   "execution_count": 40,
   "id": "c341a80f-0fd6-45f6-a148-7a874eaf6ed4",
   "metadata": {},
   "outputs": [
    {
     "name": "stdout",
     "output_type": "stream",
     "text": [
      "Error: Text must be strings.\n",
      "Pyth0n 1s 4m4z1ng!\n"
     ]
    }
   ],
   "source": [
    "def translate(text: str, mapping: dict[str, str]) -> str:\n",
    "    \n",
    "    if not isinstance(text, str):\n",
    "        return\"Error: Text must be strings.\"\n",
    "        \n",
    "    elif not isinstance(mapping, dict) or not all(isinstance(k, str) and isinstance(v, str) for k, v in mapping.items()):\n",
    "        return \"Error: mapping must be a dictionary with string keys and string values.\"\n",
    "\n",
    "    result = []\n",
    "    for ch in text:\n",
    "        if ch in mapping:\n",
    "            result.append(mapping[ch])\n",
    "        else:\n",
    "            result.append(ch)\n",
    "    return ''.join(result)\n",
    "\n",
    "mapping = {'a': '4', 'e': '3', 'i': '1', 'o': '0'}\n",
    "print(translate(32113123, mapping))\n",
    "print(translate(\"Python is amazing!\", mapping)) \n"
   ]
  },
  {
   "cell_type": "markdown",
   "id": "1adb5c19-3031-4d7e-8189-19a25f321d99",
   "metadata": {},
   "source": [
    "# Q3. Currency Formatter & Rounding Ties-to-Even"
   ]
  },
  {
   "cell_type": "markdown",
   "id": "c8f3ba86-8886-44bf-8cbe-32401773f312",
   "metadata": {},
   "source": [
    "Write fmt_money(x: float)-> str that returns a string like 1,234.50 using proper rounding (banker’s rounding / ties-to-even). Include test cases that demonstrate ties (e.g., 2.5, 3.5). Explain 2floating-point representation error and how formatting mitigates it for display"
   ]
  },
  {
   "cell_type": "markdown",
   "id": "6c74483b-dafd-4f66-b4b9-240cd6b65e24",
   "metadata": {},
   "source": [
    "# Prompt (Paste verbatim)"
   ]
  },
  {
   "cell_type": "markdown",
   "id": "8880e77d-c9bd-4cf0-9b22-86cccb682cb4",
   "metadata": {},
   "source": [
    "Write a Python function fmt_money(x) that returns a properly formatted money string (e.g., 1,234.50) using banker’s rounding (also known as round half to even). Include test cases that demonstrate rounding ties (e.g., 2.5, 3.5) to show how the rounding behaves.\n",
    "Then, explain what floating-point representation error is and how proper formatting helps mitigate its impact when displaying numerical values."
   ]
  },
  {
   "cell_type": "markdown",
   "id": "cc35ddce-e54d-4f18-bc61-0c6c7ae20650",
   "metadata": {},
   "source": [
    "# ChatGPT Code (Paste Verbatim)"
   ]
  },
  {
   "cell_type": "code",
   "execution_count": 41,
   "id": "2b9cbaf6-f109-4c93-9eae-ff26476f6e0c",
   "metadata": {},
   "outputs": [
    {
     "name": "stdout",
     "output_type": "stream",
     "text": [
      "1234.5 -> 1,234.50\n",
      "1234.567 -> 1,234.57\n",
      "1234.999 -> 1,235.00\n",
      "2.5 -> 2.50\n",
      "3.5 -> 3.50\n",
      "1.225 -> 1.23\n",
      "1.215 -> 1.22\n"
     ]
    }
   ],
   "source": [
    "def fmt_money(x):\n",
    "    \"\"\"\n",
    "    Formats a float as a money string with two decimal places,\n",
    "    using banker's rounding (round half to even).\n",
    "    \"\"\"\n",
    "    # Perform banker's rounding using round()\n",
    "    rounded_value = round(x, 2)\n",
    "\n",
    "    # Format with commas and two decimal places\n",
    "    return f\"{rounded_value:,.2f}\"\n",
    "\n",
    "\n",
    "# ---- Test Cases ----\n",
    "test_values = [1234.5, 1234.567, 1234.999, 2.5, 3.5, 1.225, 1.215]\n",
    "\n",
    "for value in test_values:\n",
    "    print(f\"{value} -> {fmt_money(value)}\")"
   ]
  },
  {
   "cell_type": "markdown",
   "id": "e3f9c5c8-3a2e-432e-ad64-9e0868d09c9f",
   "metadata": {},
   "source": [
    "# Critique"
   ]
  },
  {
   "cell_type": "markdown",
   "id": "610aa8ae-2a39-4c9b-9176-dff12cff96a1",
   "metadata": {},
   "source": [
    "CORRECTNESS:\n",
    "Correct for typical use, perfect if converted to Decimal for exact financial accuracy.\n",
    "\n",
    "Reference: Lecture_2 - Introduced the Math Functions like the one in the code round() in page12\n",
    "\n",
    "COMPLEXITY:\n",
    "The function runs in O(1) time constant operations only, it also uses an efficient python buil-in feature round() and string formatter additionally it doesnt use any loops\n",
    "\n",
    "READABILITY:\n",
    "Very readable naming conventions are consistent and self-explanatory. Also the comments are complments the step by step flow of the function.\n",
    "\n",
    "ROBUSTNESS:\n",
    "Robust for expected cases, however I could also add type-checking (isinstance(x, (int, float))) for stronger validation.\n",
    "\n",
    "FAITHFULNESS: \n",
    "Fully meets the problem’s specifications . it applies banker’s rounding, formats output with commas and 2 decimals, demonstrates rounding ties correctly (2.5 → 2.00, 3.5 → 4.00). It also accurately reflects the explanation about floating-point error and why formatting mitigates it.\n"
   ]
  },
  {
   "cell_type": "markdown",
   "id": "ddc0e00b-d48f-4067-83d4-c1d20c2f485c",
   "metadata": {},
   "source": [
    "# Improved Code"
   ]
  },
  {
   "cell_type": "code",
   "execution_count": 32,
   "id": "c59891df-4eb5-4a93-ae23-875840667196",
   "metadata": {},
   "outputs": [
    {
     "name": "stdout",
     "output_type": "stream",
     "text": [
      "32323 -> 32,323.00\n",
      "1234.567 -> 1,234.57\n",
      "1234.999 -> 1,235.00\n",
      "2.5 -> 2.50\n",
      "3.5 -> 3.50\n",
      "1.225 -> 1.23\n",
      "1.215 -> 1.22\n"
     ]
    }
   ],
   "source": [
    "def fmt_money(x: float) -> str:\n",
    "\n",
    "    if not isinstance(x, (int,float)):\n",
    "        return \"Value should be a number\"\n",
    "    rounded_value = round(x, 2)\n",
    "    return f\"{rounded_value:,.2f}\"\n",
    "\n",
    "# ---- Test Cases ----\n",
    "test_values = [32323, 1234.567, 1234.999, 2.5, 3.5, 1.225, 1.215]\n",
    "\n",
    "for value in test_values:\n",
    "    print(f\"{value} -> {fmt_money(value)}\")"
   ]
  },
  {
   "cell_type": "markdown",
   "id": "ab6004b0-5166-45d9-a92a-3a61ce94689e",
   "metadata": {},
   "source": [
    "# Q4. Exponent Tool & Input Validation"
   ]
  },
  {
   "cell_type": "markdown",
   "id": "d0cf119e-4b50-4b50-a259-e7dd9c4a3522",
   "metadata": {},
   "source": [
    "Create a CLI program exponent.py that reads two values, validates they are numeric, handles errors gracefully (e.g., ValueError),\n",
    "and prints a ** b with clear messages. Compare using try/except vs. pre-validationwith str.isdigit() (and why isdigit() is insufficient for negatives/floats). Anchor concepts: arithmetic operators, exceptions, input. Reference: :contentReference[oaicite:9]index=9,:contentReference[oaicite:10]index=10\n"
   ]
  },
  {
   "cell_type": "markdown",
   "id": "666e2af3-9d5f-40a1-8922-364734a4c793",
   "metadata": {},
   "source": [
    "# Prompt (Paste verbatim)"
   ]
  },
  {
   "cell_type": "markdown",
   "id": "5ac90acf-f07d-492f-aafa-237108409931",
   "metadata": {},
   "source": [
    "Create a command-line Python program exponent.py that:\n",
    "Reads two input values from the user.\n",
    "Validates that both inputs are numeric.\n",
    "Handles invalid input gracefully using try/except (e.g., catching ValueError).\n",
    "Computes and prints the result of a ** b with clear, user-friendly messages.\n",
    "Then, compare using try/except versus pre-validation with str.isdigit() for input handling.\n",
    "Explain why isdigit() is insufficient for negative numbers and floating-point values.\n",
    "Anchor concepts: arithmetic operators, exceptions, input validation, and error handling."
   ]
  },
  {
   "cell_type": "markdown",
   "id": "efd50325-b725-4ad2-a6b1-74bbb6c255a0",
   "metadata": {},
   "source": [
    "# ChatGPT Code (Paste Verbatim)"
   ]
  },
  {
   "cell_type": "code",
   "execution_count": 34,
   "id": "6cd2ba6d-7c70-4db5-8036-263ea155d5cc",
   "metadata": {},
   "outputs": [
    {
     "name": "stdin",
     "output_type": "stream",
     "text": [
      "Enter the base number:  2\n",
      "Enter the exponent:  4\n"
     ]
    },
    {
     "name": "stdout",
     "output_type": "stream",
     "text": [
      "\n",
      "Result: 2.0 raised to the power of 4.0 is 16.0000\n"
     ]
    }
   ],
   "source": [
    "def main():\n",
    "    try:\n",
    "        # 🧩 Read inputs from the user\n",
    "        base = input(\"Enter the base number: \")\n",
    "        exponent = input(\"Enter the exponent: \")\n",
    "\n",
    "        # 🎯 Attempt to convert inputs to float\n",
    "        base = float(base)\n",
    "        exponent = float(exponent)\n",
    "\n",
    "        # 💡 Perform exponentiation\n",
    "        result = base ** exponent\n",
    "\n",
    "        # ✅ Display the result with a clear message\n",
    "        print(f\"\\nResult: {base} raised to the power of {exponent} is {result:.4f}\")\n",
    "\n",
    "    except ValueError:\n",
    "        # ⚠️ Handle invalid (non-numeric) inputs\n",
    "        print(\"\\nError: Please enter valid numeric values for both base and exponent.\")\n",
    "    except Exception as e:\n",
    "        # 🧯 Catch-all for unexpected errors\n",
    "        print(f\"\\nAn unexpected error occurred: {e}\")\n",
    "        \n",
    "       # 🧠 Why isdigit() is Insufficient   \n",
    "        #'123'.isdigit() → ✅ True\n",
    "        #'-123'.isdigit() → ❌ False (because of the minus sign -)\n",
    "        #'3.14'.isdigit() → ❌ False (because of the dot .)\n",
    "        #'1e3'.isdigit() → ❌ False (scientific notation not supported)\n",
    "        #That’s why try/except is preferred — it handles all numeric formats that Python can convert to float.\n",
    "        \n",
    "if __name__ == \"__main__\":\n",
    "    main()"
   ]
  },
  {
   "cell_type": "markdown",
   "id": "d2c8c1a7-1196-40bd-b2a1-9d0b8b106a51",
   "metadata": {},
   "source": [
    "# Critique"
   ]
  },
  {
   "cell_type": "markdown",
   "id": "a16a3e1f-2451-45f5-8475-4a17fd09b42b",
   "metadata": {},
   "source": [
    "CORRECTNESS:\n",
    "of the exponent.py program is strong because it properly converts user input to numeric values, computes exponentiation accurately, and handles invalid entries through try/except blocks.\n",
    "References: Lecture_4 - THe try/xcept blocks are introduced the this lecture in page 26\n",
    "\n",
    "COMPLEXITY: \n",
    "Its complexity is excellent since it performs all operations in constant time and space, making it efficient and lightweight.\n",
    "\n",
    "READABILITY:\n",
    "The readability of the program is high due to clear variable naming and organized structure, though adding a brief docstring at the top would make its purpose immediately clear.\n",
    "\n",
    "ROBUSTNESS:\n",
    "In terms of robustness, it handles common input errors effectively, but it could be improved by continuously prompting the user until valid numbers are provided or by checking for empty input.\n",
    "\n",
    "FAITHFULNESS: \n",
    "The program shows great faithfulness to the requirements because it demonstrates arithmetic operations, input validation, and error handling, while also clearly explaining why isdigit() is not suitable for negative or floating-point values."
   ]
  },
  {
   "cell_type": "markdown",
   "id": "d31bae5f-3ed7-480a-a3e4-99538ae18150",
   "metadata": {},
   "source": [
    "# Improved Code"
   ]
  },
  {
   "cell_type": "code",
   "execution_count": 46,
   "id": "a01e0cfb-f406-407c-bc1f-229385aa5854",
   "metadata": {},
   "outputs": [
    {
     "name": "stdout",
     "output_type": "stream",
     "text": [
      "=== Exponent Calculator ===\n",
      "\n"
     ]
    },
    {
     "name": "stdin",
     "output_type": "stream",
     "text": [
      "Enter the base number:  3\n",
      "Enter the exponent:  7\n"
     ]
    },
    {
     "name": "stdout",
     "output_type": "stream",
     "text": [
      "\n",
      " Result: 3.0 raised to the power of 7.0 is 2187.00\n"
     ]
    }
   ],
   "source": [
    "def get_float(prompt):  # A function that will keep asking the user ot input a valid input\n",
    "    while True:\n",
    "        try:\n",
    "            value = float(input(prompt))\n",
    "            return value\n",
    "        except ValueError:\n",
    "            print(\" Invalid input. Please enter a numeric value.\\n\")\n",
    "\n",
    "\n",
    "def main():\n",
    "    print(\"=== Exponent Calculator ===\\n\")\n",
    "\n",
    "    base = get_float(\"Enter the base number: \")\n",
    "    exponent = get_float(\"Enter the exponent: \")\n",
    "\n",
    "    result = base ** exponent\n",
    "\n",
    "    print(f\"\\n Result: {base} raised to the power of {exponent} is {result:.2f}\") # make it into 2 decimal place only because I thin 4 decimals is a bit too much\n",
    "\n",
    "\n",
    "if __name__ == \"__main__\":\n",
    "    main()"
   ]
  },
  {
   "cell_type": "markdown",
   "id": "6d5f6a12-6993-4c99-9fb9-87bb181040d3",
   "metadata": {},
   "source": [
    "# Q5. Password Policy Checker (If/Elif/Else + Loops)"
   ]
  },
  {
   "cell_type": "markdown",
   "id": "ef922163-3f41-43ea-9f76-7fccc994a295",
   "metadata": {},
   "source": [
    "Implement check_password(pw:str) -> dict that validates: length ≥ 10, at least one uppercase, one lowercase,\n",
    "one digit, one symbol in !@#$%^&*, and no spaces. Return a dict of booleans per rule and an overall pass/fail. Include a loop that prompts until a valid password\n",
    "is entered (allow quit with Q/q). Anchor concepts: conditionals, logical operators,loops, break/continue. Reference: :contentReference[oaicite:11]index=11\n"
   ]
  },
  {
   "cell_type": "markdown",
   "id": "73cbad48-6b3a-4321-8285-1d3149488d35",
   "metadata": {},
   "source": [
    "# Prompt (Paste verbatim)"
   ]
  },
  {
   "cell_type": "code",
   "execution_count": null,
   "id": "2e1b7ea2-d647-4510-a82f-bdd5662868fb",
   "metadata": {},
   "outputs": [],
   "source": [
    "Write a Python function check_password(pw) that validates a password according to these rules:\n",
    "Length is at least 10 characters.\n",
    "Contains at least one uppercase letter (A–Z).\n",
    "Contains at least one lowercase letter (a–z).\n",
    "Contains at least one digit (0–9).\n",
    "Contains at least one special symbol from the set: !@#$%^&*.\n",
    "No spaces allowed anywhere in the password."
   ]
  },
  {
   "cell_type": "markdown",
   "id": "1852a8ef-b07c-4324-b1b8-6a8c428eeda7",
   "metadata": {},
   "source": [
    "# ChatGPT Code (Paste Verbatim)"
   ]
  },
  {
   "cell_type": "code",
   "execution_count": 48,
   "id": "a06f9ffe-5ca9-4e80-b4f6-d9a2a13d8fa1",
   "metadata": {},
   "outputs": [
    {
     "name": "stdout",
     "output_type": "stream",
     "text": [
      "{'length': True, 'uppercase': True, 'lowercase': True, 'digit': True, 'symbol': True, 'no_spaces': True, 'overall': True}\n",
      "{'length': False, 'uppercase': False, 'lowercase': True, 'digit': False, 'symbol': False, 'no_spaces': True, 'overall': False}\n"
     ]
    }
   ],
   "source": [
    "def check_password(pw):\n",
    "    \"\"\"Validates a password based on given security rules.\"\"\"\n",
    "    \n",
    "    # Define the allowed special symbols\n",
    "    symbols = \"!@#$%^&*\"\n",
    "\n",
    "    # Create a dictionary to track each rule\n",
    "    results = {\n",
    "        \"length\": len(pw) >= 10,\n",
    "        \"uppercase\": any(ch.isupper() for ch in pw),\n",
    "        \"lowercase\": any(ch.islower() for ch in pw),\n",
    "        \"digit\": any(ch.isdigit() for ch in pw),\n",
    "        \"symbol\": any(ch in symbols for ch in pw),\n",
    "        \"no_spaces\": \" \" not in pw\n",
    "    }\n",
    "\n",
    "    # Add overall result (True if all conditions pass)\n",
    "    results[\"overall\"] = all(results.values())\n",
    "\n",
    "    return results\n",
    "\n",
    "# Test the function\n",
    "print(check_password(\"StrongPass1@\"))\n",
    "print(check_password(\"weakpass\"))\n"
   ]
  },
  {
   "cell_type": "markdown",
   "id": "ebcf4dde-158f-49dc-a008-094a9175b112",
   "metadata": {},
   "source": [
    "# Critique"
   ]
  },
  {
   "cell_type": "markdown",
   "id": "556249c1-4cfb-4df4-a3c8-f71476bc79cb",
   "metadata": {},
   "source": [
    "CORRECTNESS : \n",
    "The function is correct because it accurately checks all specified password rules, including length, case sensitivity, \n",
    "digits, symbols, and spaces, and returns a dictionary that properly reflects the results.\n",
    "\n",
    "Reference: Lecture_3 and Lecture_4- the concept of loops and elif keys were introduced and implemented in these lessons respectively\n",
    "\n",
    "COMPLEXITY :\n",
    "In terms of complexity, the function has a time complexity of O(n) since it iterates over the password multiple times for different checks, where n is the password length; however, it still performs efficiently for typical password lengths.\n",
    "\n",
    "ROBUSTNESS: \n",
    "Regarding robustness, the function handles normal and edge cases effectively but could be enhanced by including input validation (for example, checking if the input is actually a string) to prevent unexpected behavior.\n",
    "\n",
    "READABILITY:\n",
    "The readability of the function is high due to the clear naming conventions and straightforward structure, making it easy for other programmers to understand its purpose and logic.\n",
    "\n",
    "FAITHFULNESS: \n",
    "The faithfulness of the function is excellent because it strictly adheres to the given rules and requirements without adding unnecessary features or deviating from the intended password policy.\n"
   ]
  },
  {
   "cell_type": "markdown",
   "id": "922c684c-2705-4a17-b057-381dee466330",
   "metadata": {},
   "source": [
    "# Improved Code"
   ]
  },
  {
   "cell_type": "code",
   "execution_count": 49,
   "id": "04e0b290-63f5-4167-9cbf-06c228e2c613",
   "metadata": {},
   "outputs": [
    {
     "name": "stdout",
     "output_type": "stream",
     "text": [
      "{'length': True, 'uppercase': True, 'lowercase': True, 'digit': True, 'symbol': True, 'no_spaces': True, 'overall': True}\n",
      "{'length': False, 'uppercase': False, 'lowercase': True, 'digit': False, 'symbol': False, 'no_spaces': True, 'overall': False}\n",
      "{'length': True, 'uppercase': False, 'lowercase': False, 'digit': True, 'symbol': False, 'no_spaces': True, 'overall': False}\n",
      "{'length': True, 'uppercase': True, 'lowercase': True, 'digit': True, 'symbol': True, 'no_spaces': False, 'overall': False}\n",
      "{'length': False, 'uppercase': False, 'lowercase': False, 'digit': False, 'symbol': False, 'no_spaces': True, 'overall': False}\n",
      "{'error': 'Password must be a string.', 'overall': False}\n"
     ]
    }
   ],
   "source": [
    "def check_password(pw: str) -> dict:\n",
    "    \"\"\"Validates a password based on defined security rules.\"\"\"\n",
    "\n",
    "    symbols = set(\"!@#$%^&*\")\n",
    "\n",
    "\n",
    "    if not isinstance(pw, str):\n",
    "        return {\"error\": \"Password must be a string.\", \"overall\": False}\n",
    "\n",
    "    has_upper = any(ch.isupper() for ch in pw)\n",
    "    has_lower = any(ch.islower() for ch in pw)\n",
    "    has_digit = any(ch.isdigit() for ch in pw)\n",
    "    has_symbol = any(ch in symbols for ch in pw)\n",
    "    has_no_spaces = \" \" not in pw\n",
    "    is_long_enough = len(pw) >= 10\n",
    "\n",
    "    results = {\n",
    "        \"length\": is_long_enough,\n",
    "        \"uppercase\": has_upper,\n",
    "        \"lowercase\": has_lower,\n",
    "        \"digit\": has_digit,\n",
    "        \"symbol\": has_symbol,\n",
    "        \"no_spaces\": has_no_spaces,\n",
    "    }\n",
    "\n",
    "    results[\"overall\"] = all(results.values())\n",
    "\n",
    "    return results\n",
    "\n",
    "\n",
    "# Test cases\n",
    "print(check_password(\"StrongPass1@\"))  \n",
    "print(check_password(\"weakpass\"))       \n",
    "print(check_password(\"1234567890\"))     \n",
    "print(check_password(\"Valid Pass1@\"))   \n",
    "print(check_password(\"\"))               \n",
    "print(check_password(12345))    "
   ]
  },
  {
   "cell_type": "markdown",
   "id": "fd4ae5be-7858-4a3b-b6ec-661640242ead",
   "metadata": {},
   "source": [
    "# Q6. Dice Simulation (Monte Carlo)"
   ]
  },
  {
   "cell_type": "markdown",
   "id": "933f6cd1-7bbb-4d89-bfa7-74f221bf4e84",
   "metadata": {},
   "source": [
    "Write roll() -> int to simulate a fair die,\n",
    "then simulate 100,000 rolls to estimate the probability that the sum of two dice\n",
    "equals 7. Compare empirical result to the exact probability. Comment on random\n",
    "seeding and reproducibility. Anchor concepts: random module, simulation, averages.\n",
    "Reference: :contentReference[oaicite:12]index=12\n"
   ]
  },
  {
   "cell_type": "markdown",
   "id": "22af10bd-3f9f-4287-a830-907832ec2dd8",
   "metadata": {},
   "source": [
    "# Prompt (Paste verbatim)"
   ]
  },
  {
   "cell_type": "code",
   "execution_count": null,
   "id": "b4cf5960-907d-4ad0-86b8-350a3502bb65",
   "metadata": {},
   "outputs": [],
   "source": [
    "Write a Python program to estimate the probability that the sum of two dice equals 7.\n",
    "Define a function roll() that returns a random number between 1 and 6 (like rolling one die).\n",
    "Roll two dice a total of 100,000 times using a loop.\n",
    "Count how often the sum is 7 and compute the estimated probability.\n",
    "Print both the estimated probability and the exact probability (1/6).\n",
    "Add a short comment about using random.seed() — how it makes the results the same each time (reproducible)."
   ]
  },
  {
   "cell_type": "markdown",
   "id": "782d09a8-3560-4b21-be91-bb421b550757",
   "metadata": {},
   "source": [
    "# ChatGPT Code (Paste Verbatim)"
   ]
  },
  {
   "cell_type": "code",
   "execution_count": 69,
   "id": "39fb28ab-eb0a-4240-8b62-532547d86d91",
   "metadata": {},
   "outputs": [
    {
     "name": "stdout",
     "output_type": "stream",
     "text": [
      "Estimated probability (from simulation): 0.17260\n",
      "Exact probability (theoretical): 0.16667\n"
     ]
    }
   ],
   "source": [
    "import random\n",
    "\n",
    "def roll():\n",
    "    \"\"\"Simulates rolling a single six-sided die.\"\"\"\n",
    "    return random.randint(1, 6)\n",
    "\n",
    "def main():\n",
    "    trials = 10_000\n",
    "    count_sum_seven = 0\n",
    "\n",
    "    for _ in range(trials):\n",
    "        die1 = roll()\n",
    "        die2 = roll()\n",
    "        if die1 + die2 == 7:\n",
    "            count_sum_seven += 1\n",
    "\n",
    "    estimated_probability = count_sum_seven / trials\n",
    "    exact_probability = 1 / 6\n",
    "\n",
    "    print(f\"Estimated probability (from simulation): {estimated_probability:.5f}\")\n",
    "    print(f\"Exact probability (theoretical): {exact_probability:.5f}\")\n",
    "\n",
    "# Uncomment the next line to make the random results reproducible\n",
    "# random.seed(42)  # Ensures the same random sequence every time the program runs\n",
    "\n",
    "if __name__ == \"__main__\":\n",
    "    main()"
   ]
  },
  {
   "cell_type": "markdown",
   "id": "b14e3634-fe18-4a4c-9495-4af9a9ef2e5e",
   "metadata": {},
   "source": [
    "# Critique"
   ]
  },
  {
   "cell_type": "markdown",
   "id": "f03721b6-447f-45d7-baa0-d8389b0805f9",
   "metadata": {},
   "source": [
    "CORRECTNESS:\n",
    "The program is correct because it accurately simulates rolling two dice 100,000 times and computes how often their sum equals seven. It also correctly compares the estimated probability with the theoretical value of 1/6.\n",
    "\n",
    "Reference : Lecture_4 - The concept or random  module was first disscussed and implemented in this lesson in page 34\n",
    "\n",
    "COMPLEXITY:\n",
    "The program runs in O(n) time, where n is the number of trials, since each iteration performs constant-time operations. Its space complexity is O(1) because it uses only a few fixed-size variables regardless of input size.\n",
    "\n",
    "READABILITY:\n",
    "The code is easy to read thanks to clear variable names, proper indentation, and helpful comments explaining each part. The inclusion of underscores in numeric literals like 100_000 also improves visual clarity.\n",
    "\n",
    "ROBUSTNESS:\n",
    "The program performs reliably for a large number of trials without performance issues. However, it could be more robust by validating that the number of trials is positive and the target sum must be between 2 and 12.\n",
    "\n",
    "FAITHFULNESS:\n",
    "The implementation fully meets the problem’s requirements, including printing both estimated and exact probabilities. It also appropriately explains the role of random.seed() for reproducibility."
   ]
  },
  {
   "cell_type": "markdown",
   "id": "3ddd424e-1475-4f4d-9d20-babb189540d2",
   "metadata": {},
   "source": [
    "# Improved Code"
   ]
  },
  {
   "cell_type": "code",
   "execution_count": 75,
   "id": "23906f38-118d-4caf-95a9-0db73d576cd2",
   "metadata": {},
   "outputs": [
    {
     "name": "stdout",
     "output_type": "stream",
     "text": [
      "After 10,000 trials:\n",
      "Estimated probability of sum = 7: 0.16530\n",
      "Exact probability (theoretical): 0.16667\n"
     ]
    }
   ],
   "source": [
    "import random\n",
    "\n",
    "def roll() -> int:\n",
    "    return random.randint(1, 6)\n",
    "\n",
    "def estimate_sum_probability(target_sum: int = 7, trials: int = 100_000):\n",
    "    if trials <= 0:\n",
    "        return \"Error: Number of trials must be a positive integer.\"\n",
    "    if not (2 <= target_sum <= 12):\n",
    "        return \"Error: The target sum must be between 2 and 12.\"\n",
    "\n",
    "    count = sum(1 for _ in range(trials) if roll() + roll() == target_sum)\n",
    "    return count / trials\n",
    "\n",
    "def main():\n",
    "\n",
    "    target_sum = 7\n",
    "    trials = 10_000\n",
    "\n",
    "    estimated_prob = estimate_sum_probability(target_sum, trials)\n",
    "    exact_prob = 1 / 6\n",
    "\n",
    "    if isinstance(estimated_prob, str):\n",
    "        print(estimated_prob)\n",
    "    else:\n",
    "        print(f\"After {trials:,} trials:\")\n",
    "        print(f\"Estimated probability of sum = {target_sum}: {estimated_prob:.5f}\")\n",
    "        print(f\"Exact probability (theoretical): {exact_prob:.5f}\")\n",
    "\n",
    "if __name__ == \"__main__\":\n",
    "    main()\n"
   ]
  },
  {
   "cell_type": "markdown",
   "id": "9fdb6560-1e5b-40db-97af-c51ff0b4a2d8",
   "metadata": {},
   "source": [
    "# Q7. OOP: Vehicles with Odometer and Fuel."
   ]
  },
  {
   "cell_type": "markdown",
   "id": "ff2b139b-1b92-4a8d-85f8-ea2affdce4c1",
   "metadata": {},
   "source": [
    "Design classes Vehicle (base),Car and Truck (children). Each has color, mileage, and fuel_liters. Provide\n",
    "drive(km, km_per_liter) which increments mileage and decreases fuel (never below 0) and refuel(liters). Show how inheritance avoids duplication and add a method override in Truck (e.g., different efficiency). Include a minimal test\n",
    "script. Anchor concepts: classes vs. instances, attributes, instance methods, inheritance/override. Reference::contentReference[oaicite:13]index=13\n"
   ]
  },
  {
   "cell_type": "markdown",
   "id": "2e83f10b-c249-445f-9fda-df1ed8dbae81",
   "metadata": {},
   "source": [
    "# Prompt (Paste Virbatim)"
   ]
  },
  {
   "cell_type": "markdown",
   "id": "8ced005d-75d1-4fbb-a0c3-1960d95b6f0f",
   "metadata": {},
   "source": [
    "Make a small Python program using classes to represent vehicles.\n",
    "Have a base class Vehicle and two subclasses: Car and Truck.\n",
    "Each should store things like color, mileage, and fuel in liters.\n",
    "Add methods to drive (use up fuel and increase mileage) and refuel.\n",
    "Make sure the Truck works a bit differently maybe it uses more fuel or overrides one method.\n",
    "Write a short test at the end that creates a car and a truck, drives them, and prints some results."
   ]
  },
  {
   "cell_type": "markdown",
   "id": "3d71aa5c-4b69-461b-bea6-4bf5ecb20be2",
   "metadata": {},
   "source": [
    "# ChatGPT Code (Paste Virbatim)"
   ]
  },
  {
   "cell_type": "code",
   "execution_count": 76,
   "id": "7d54866e-9c18-447e-a4a6-7377d82e4438",
   "metadata": {},
   "outputs": [
    {
     "name": "stdout",
     "output_type": "stream",
     "text": [
      "\n",
      "--- Driving vehicles ---\n",
      "Car drove 100.0 km. Remaining fuel: 32.0 L\n",
      "Truck drove 100.0 km. Remaining fuel: 80.0 L\n",
      "\n",
      "--- Refueling ---\n",
      "Car refueled 10 L. Total fuel: 42.0 L\n",
      "Truck refueled 50 L. Total fuel: 130.0 L\n",
      "\n",
      "--- Final status ---\n",
      "Car - Color: Red, Mileage: 10100, Fuel: 42.0\n",
      "Truck - Color: Blue, Mileage: 50100, Fuel: 130.0\n"
     ]
    }
   ],
   "source": [
    "class Vehicle:\n",
    "    \"\"\"Base class representing a generic vehicle.\"\"\"\n",
    "\n",
    "    def __init__(self, color: str, mileage: float, fuel: float):\n",
    "        self.color = color\n",
    "        self.mileage = mileage\n",
    "        self.fuel = fuel\n",
    "\n",
    "    def drive(self, distance: float, fuel_per_km: float):\n",
    "        \"\"\"Drive the vehicle, using fuel and increasing mileage.\"\"\"\n",
    "        fuel_needed = distance * fuel_per_km\n",
    "        if fuel_needed > self.fuel:\n",
    "            print(f\"Not enough fuel to drive {distance} km. Vehicle can only drive {self.fuel / fuel_per_km:.1f} km.\")\n",
    "            distance = self.fuel / fuel_per_km\n",
    "            fuel_needed = self.fuel\n",
    "\n",
    "        self.mileage += distance\n",
    "        self.fuel -= fuel_needed\n",
    "        print(f\"{self.__class__.__name__} drove {distance:.1f} km. Remaining fuel: {self.fuel:.1f} L\")\n",
    "\n",
    "    def refuel(self, liters: float):\n",
    "        \"\"\"Add fuel to the vehicle.\"\"\"\n",
    "        if liters > 0:\n",
    "            self.fuel += liters\n",
    "            print(f\"{self.__class__.__name__} refueled {liters} L. Total fuel: {self.fuel:.1f} L\")\n",
    "        else:\n",
    "            print(\"Refuel amount must be positive.\")\n",
    "\n",
    "\n",
    "class Car(Vehicle):\n",
    "    \"\"\"A car that uses less fuel.\"\"\"\n",
    "    def __init__(self, color: str, mileage: float, fuel: float):\n",
    "        super().__init__(color, mileage, fuel)\n",
    "\n",
    "    def drive(self, distance: float):\n",
    "        # Cars are more fuel-efficient (e.g., 0.08 L/km)\n",
    "        super().drive(distance, fuel_per_km=0.08)\n",
    "\n",
    "\n",
    "class Truck(Vehicle):\n",
    "    \"\"\"A truck that consumes more fuel.\"\"\"\n",
    "    def __init__(self, color: str, mileage: float, fuel: float):\n",
    "        super().__init__(color, mileage, fuel)\n",
    "\n",
    "    def drive(self, distance: float):\n",
    "        # Trucks are less fuel-efficient (e.g., 0.2 L/km)\n",
    "        super().drive(distance, fuel_per_km=0.2)\n",
    "\n",
    "\n",
    "# --- Test the program ---\n",
    "if __name__ == \"__main__\":\n",
    "    car = Car(\"Red\", 10_000, 40)\n",
    "    truck = Truck(\"Blue\", 50_000, 100)\n",
    "\n",
    "    print(\"\\n--- Driving vehicles ---\")\n",
    "    car.drive(100)\n",
    "    truck.drive(100)\n",
    "\n",
    "    print(\"\\n--- Refueling ---\")\n",
    "    car.refuel(10)\n",
    "    truck.refuel(50)\n",
    "\n",
    "    print(\"\\n--- Final status ---\")\n",
    "    print(f\"Car - Color: {car.color}, Mileage: {car.mileage}, Fuel: {car.fuel}\")\n",
    "    print(f\"Truck - Color: {truck.color}, Mileage: {truck.mileage}, Fuel: {truck.fuel}\")"
   ]
  },
  {
   "cell_type": "markdown",
   "id": "9e1a35b7-095a-42ac-9f24-d4f404cc1884",
   "metadata": {},
   "source": [
    "# Critique"
   ]
  },
  {
   "cell_type": "markdown",
   "id": "6dbdea61-f990-4a75-add8-66bc774aa47d",
   "metadata": {},
   "source": [
    "Correctness:\n",
    "The program works correctly because it uses classes, inheritance, and overriding properly. The car and truck behave differently when driving, just as the problem asks.\n",
    "\n",
    "Reference : Lecture_6 - The concept of class was explained in the page 4 of the lesson\n",
    "\n",
    "Complexity:\n",
    "The program runs in O(1) time since each method only does simple math and checks. It is fast and does not use extra memory or loops.\n",
    "\n",
    "Readability:\n",
    "The code is easy to read because it uses clear names, comments, and simple formatting. The printed messages are also easy to understand.\n",
    "\n",
    "Robustness:\n",
    "The program can handle small problems like not having enough fuel or adding the wrong refuel amount. It could be better by checking for negative values for distance or mileage.\n",
    "\n",
    "Faithfulness:\n",
    "The program follows all the instructions and shows the right use of classes and methods. It matches the idea of cars and trucks working in a real-life way."
   ]
  },
  {
   "cell_type": "markdown",
   "id": "c78cfbde-398f-4247-8e78-999b4a091718",
   "metadata": {},
   "source": [
    "# Improved Code"
   ]
  },
  {
   "cell_type": "code",
   "execution_count": 85,
   "id": "d7f385de-4bdb-40b0-bdb7-eaffb9dd881e",
   "metadata": {},
   "outputs": [
    {
     "name": "stdout",
     "output_type": "stream",
     "text": [
      "\n",
      "--- Driving vehicles ---\n",
      "Distance must be positive.\n",
      "Car drove 150.0 km. Remaining fuel: 28.0 L\n",
      "Truck drove 150.0 km. Remaining fuel: 10.0 L\n",
      "\n",
      "--- Refueling ---\n",
      "Car refueled 20 L. Total fuel: 48.0 L\n",
      "Truck refueled 40 L. Total fuel: 50.0 L\n",
      "\n",
      "--- Final Status ---\n",
      "Car -> Color: Red, Mileage: 12150.0, Fuel: 48.0 L\n",
      "Truck -> Color: Blue, Mileage: 50150.0, Fuel: 50.0 L\n"
     ]
    }
   ],
   "source": [
    "class Vehicle:\n",
    "\n",
    "    def __init__(self, color: str, mileage: float, fuel: float):\n",
    "        self.color = color\n",
    "        self.mileage = mileage\n",
    "        self.fuel = fuel\n",
    "\n",
    "    def drive(self, distance: float, fuel_per_km: float):\n",
    "        if distance <= 0:\n",
    "            print(\"Distance must be positive.\")\n",
    "            return\n",
    "\n",
    "        fuel_needed = distance * fuel_per_km\n",
    "\n",
    "        if fuel_needed > self.fuel:\n",
    "            possible_distance = self.fuel / fuel_per_km\n",
    "            print(f\"Not enough fuel. Can only drive {possible_distance:.1f} km.\")\n",
    "            distance = possible_distance\n",
    "            fuel_needed = self.fuel\n",
    "\n",
    "        self.mileage += distance\n",
    "        self.fuel -= fuel_needed\n",
    "        print(f\"{self.__class__.__name__} drove {distance:.1f} km. Remaining fuel: {self.fuel:.1f} L\")\n",
    "\n",
    "    def refuel(self, liters: float):\n",
    "        if liters <= 0:\n",
    "            print(\"Refuel amount must be positive.\")\n",
    "            return\n",
    "        self.fuel += liters\n",
    "        print(f\"{self.__class__.__name__} refueled {liters} L. Total fuel: {self.fuel:.1f} L\")\n",
    "\n",
    "\n",
    "class Car(Vehicle):\n",
    "    def drive(self, distance: float):\n",
    "        super().drive(distance, fuel_per_km=0.08)\n",
    "\n",
    "\n",
    "class Truck(Vehicle):\n",
    "    def drive(self, distance: float):\n",
    "        super().drive(distance, fuel_per_km=0.2)\n",
    "\n",
    "\n",
    "# --- Test Program ---\n",
    "if __name__ == \"__main__\":\n",
    "    car = Car(\"Red\", 12000, 40)\n",
    "    truck = Truck(\"Blue\", 50000, 40)\n",
    "\n",
    "    print(\"\\n--- Driving vehicles ---\")\n",
    "    car.drive(-150) # return distance must be positive\n",
    "    car.drive(150)\n",
    "    truck.drive(150)\n",
    "\n",
    "    print(\"\\n--- Refueling ---\")\n",
    "    car.refuel(20)\n",
    "    truck.refuel(40)\n",
    "\n",
    "    print(\"\\n--- Final Status ---\")\n",
    "    print(f\"Car -> Color: {car.color}, Mileage: {car.mileage:.1f}, Fuel: {car.fuel:.1f} L\")\n",
    "    print(f\"Truck -> Color: {truck.color}, Mileage: {truck.mileage:.1f}, Fuel: {truck.fuel:.1f} L\")\n"
   ]
  },
  {
   "cell_type": "markdown",
   "id": "8c246437-725d-4fd5-97f1-edd503dab649",
   "metadata": {},
   "source": [
    "# Q8. OOP + Composition: Kennel with Dogs"
   ]
  },
  {
   "cell_type": "markdown",
   "id": "7d1e0087-b834-47ee-a35f-507e51b9480d",
   "metadata": {},
   "source": [
    "Using a Dog class (name, age, breed,bark()), implement a Kennel manager that holds multiple Dog instances, supports\n",
    "add_dog, remove_dog, oldest_dog(), and find_by_breed(breed). Compare composition vs. inheritance for this scenario. Anchor concepts: OOP design, managing collections of objects. Reference: :contentReference[oaicite:14]index=14\n"
   ]
  },
  {
   "cell_type": "markdown",
   "id": "798bf735-fba9-4385-a9d5-56bb0653d82c",
   "metadata": {},
   "source": [
    "# Prompt (Paste Verbatim)"
   ]
  },
  {
   "cell_type": "markdown",
   "id": "81faeefd-6593-4b6b-91bf-161a2fd5cec4",
   "metadata": {},
   "source": [
    "Create a Dog class with the attributes name, age, and breed, and a method bark().\n",
    "Then make a Kennel class that stores several Dog objects.\n",
    "The Kennel should have methods to:\n",
    "add a dog\n",
    "remove a dog\n",
    "find the oldest dog\n",
    "find all dogs of a certain breed"
   ]
  },
  {
   "cell_type": "markdown",
   "id": "998517a3-8d14-4c87-9989-6c1ba5bf046f",
   "metadata": {},
   "source": [
    "# ChatGPT Code (Paste Verbatim)"
   ]
  },
  {
   "cell_type": "code",
   "execution_count": 86,
   "id": "4d3a1da9-0f81-4f99-9cb9-7140f3e943bf",
   "metadata": {},
   "outputs": [
    {
     "name": "stdout",
     "output_type": "stream",
     "text": [
      "Buddy says: Woof! Woof!\n",
      "Oldest dog: Max\n",
      "Labradors in kennel: ['Buddy', 'Bella']\n",
      "After removing Max: ['Buddy', 'Bella']\n"
     ]
    }
   ],
   "source": [
    "class Dog:\n",
    "    def __init__(self, name, age, breed):\n",
    "        self.name = name\n",
    "        self.age = age\n",
    "        self.breed = breed\n",
    "\n",
    "    def bark(self):\n",
    "        return f\"{self.name} says: Woof! Woof!\"\n",
    "\n",
    "\n",
    "class Kennel:\n",
    "    def __init__(self):\n",
    "        self.dogs = []\n",
    "\n",
    "    def add_dog(self, dog):\n",
    "        self.dogs.append(dog)\n",
    "\n",
    "    def remove_dog(self, name):\n",
    "        self.dogs = [dog for dog in self.dogs if dog.name != name]\n",
    "\n",
    "    def find_oldest_dog(self):\n",
    "        if not self.dogs:\n",
    "            return None\n",
    "        return max(self.dogs, key=lambda dog: dog.age)\n",
    "\n",
    "    def find_by_breed(self, breed):\n",
    "        return [dog for dog in self.dogs if dog.breed.lower() == breed.lower()]\n",
    "\n",
    "\n",
    "# --- Test the classes ---\n",
    "if __name__ == \"__main__\":\n",
    "    # Create some Dog objects\n",
    "    dog1 = Dog(\"Buddy\", 3, \"Labrador\")\n",
    "    dog2 = Dog(\"Max\", 5, \"Beagle\")\n",
    "    dog3 = Dog(\"Bella\", 2, \"Labrador\")\n",
    "\n",
    "    # Create a Kennel and add dogs\n",
    "    kennel = Kennel()\n",
    "    kennel.add_dog(dog1)\n",
    "    kennel.add_dog(dog2)\n",
    "    kennel.add_dog(dog3)\n",
    "\n",
    "    # Test the methods\n",
    "    print(dog1.bark())\n",
    "    print(\"Oldest dog:\", kennel.find_oldest_dog().name)\n",
    "    print(\"Labradors in kennel:\", [dog.name for dog in kennel.find_by_breed(\"Labrador\")])\n",
    "\n",
    "    # Remove a dog\n",
    "    kennel.remove_dog(\"Max\")\n",
    "    print(\"After removing Max:\", [dog.name for dog in kennel.dogs])\n"
   ]
  },
  {
   "cell_type": "markdown",
   "id": "34d6d866-dad5-42a3-8c26-6e19730cb66e",
   "metadata": {},
   "source": [
    "# Critique"
   ]
  },
  {
   "cell_type": "markdown",
   "id": "fc44d753-68f7-4db5-8e4c-3ad1911ad363",
   "metadata": {},
   "source": [
    "Correctness:\n",
    "The code correctly creates and manages Dog objects in a Kennel, performing all required actions like adding, removing, and searching. Each method works as intended without errors.\n",
    "\n",
    "Reference : Lecture_6-  THe concept of classes and OOP was introduces in this lesson\n",
    "\n",
    "Complexity:\n",
    "The operations are efficient most are O(n), which is acceptable given the small data size expected for a kennel. The logic is straightforward and doesn’t include unnecessary steps.\n",
    "\n",
    "Readability:\n",
    "The code is clean, easy to understand, and uses clear variable names and structure. Comments and test examples make it beginner-friendly and self-explanatory.\n",
    "\n",
    "Robustness:\n",
    "It handles edge cases well, such as returning None if there are no dogs when finding the oldest one. However, it could be improved by adding validation (e.g., preventing duplicate names).\n",
    "\n",
    "Faithfulness:\n",
    "It fully follows the problem requirements by implementing all requested methods and correctly representing the Dog and Kennel relationship."
   ]
  },
  {
   "cell_type": "markdown",
   "id": "f74b81c2-c420-4295-9542-bb208c16250c",
   "metadata": {},
   "source": [
    "# Improved Code "
   ]
  },
  {
   "cell_type": "code",
   "execution_count": null,
   "id": "a7319617-5248-4684-8942-81b54b7bbc28",
   "metadata": {},
   "outputs": [],
   "source": [
    "class Dog:\n",
    "    \"\"\"Represents a dog with basic attributes and behavior.\"\"\"\n",
    "    \n",
    "    def __init__(self, name: str, age: int, breed: str):\n",
    "        self.name = name\n",
    "        self.age = age\n",
    "        self.breed = breed\n",
    "\n",
    "    def bark(self) -> str:\n",
    "        \"\"\"Return the dog's bark sound.\"\"\"\n",
    "        return f\"{self.name} says: Woof! 🐾\"\n",
    "\n",
    "    def __str__(self):\n",
    "        \"\"\"Readable representation of the dog.\"\"\"\n",
    "        return f\"{self.name} ({self.breed}, {self.age} years old)\"\n",
    "\n",
    "\n",
    "class Kennel:\n",
    "    \"\"\"Stores and manages multiple Dog objects.\"\"\"\n",
    "    \n",
    "    def __init__(self):\n",
    "        self.dogs = []\n",
    "\n",
    "    def add_dog(self, dog: Dog) -> None:\n",
    "        \"\"\"Add a new dog if it doesn't already exist by name.\"\"\"\n",
    "        if any(d.name == dog.name for d in self.dogs):\n",
    "            print(f\"Dog named '{dog.name}' already exists in the kennel.\")\n",
    "        else:\n",
    "            self.dogs.append(dog)\n",
    "            print(f\"{dog.name} has been added to the kennel.\")\n",
    "\n",
    "    def remove_dog(self, name: str) -> None:\n",
    "        \"\"\"Remove a dog by name.\"\"\"\n",
    "        for d in self.dogs:\n",
    "            if d.name == name:\n",
    "                self.dogs.remove(d)\n",
    "                print(f\"{name} has been removed from the kennel.\")\n",
    "                return\n",
    "        print(f\"No dog named '{name}' found in the kennel.\")\n",
    "\n",
    "    def find_oldest_dog(self):\n",
    "        \"\"\"Return the oldest dog in the kennel, or None if empty.\"\"\"\n",
    "        if not self.dogs:\n",
    "            return None\n",
    "        return max(self.dogs, key=lambda d: d.age)\n",
    "\n",
    "    def find_by_breed(self, breed: str):\n",
    "        \"\"\"Return all dogs matching the given breed.\"\"\"\n",
    "        return [d for d in self.dogs if d.breed.lower() == breed.lower()]\n",
    "\n",
    "    def display_all(self):\n",
    "        \"\"\"Display all dogs in the kennel.\"\"\"\n",
    "        if not self.dogs:\n",
    "            print(\"The kennel is empty.\")\n",
    "        else:\n",
    "            for d in self.dogs:\n",
    "                print(d)\n",
    "\n",
    "\n",
    "# --- Test the classes ---\n",
    "if __name__ == \"__main__\":\n",
    "    kennel = Kennel()\n",
    "\n",
    "    dog1 = Dog(\"Buddy\", 3, \"Golden Retriever\")\n",
    "    dog2 = Dog(\"Max\", 5, \"Bulldog\")\n",
    "    dog3 = Dog(\"Luna\", 2, \"Golden Retriever\")\n",
    "\n",
    "    kennel.add_dog(dog1)\n",
    "    kennel.add_dog(dog2)\n",
    "    kennel.add_dog(dog3)\n",
    "\n",
    "    print(\"\\nAll dogs in the kennel:\")\n",
    "    kennel.display_all()\n",
    "\n",
    "    print(\"\\nOldest dog:\")\n",
    "    print(kennel.find_oldest_dog())\n",
    "\n",
    "    print(\"\\nDogs of breed 'Golden Retriever':\")\n",
    "    for dog in kennel.find_by_breed(\"Golden Retriever\"):\n",
    "        print(dog)\n",
    "\n",
    "    print(\"\\nTesting bark:\")\n",
    "    print(dog1.bark())\n",
    "\n",
    "    kennel.remove_dog(\"Max\")\n",
    "    kennel.display_all()\n"
   ]
  },
  {
   "cell_type": "markdown",
   "id": "7fcc39a2-64d0-4b34-9959-bc249d69bcbc",
   "metadata": {},
   "source": [
    "# Q9. Modules and Packages: Helpers"
   ]
  },
  {
   "cell_type": "markdown",
   "id": "b86cf893-f2f5-4087-9244-fd5d1dcc5563",
   "metadata": {},
   "source": [
    "Create a package helpers/ with modules string_utils.py (function shout(s) uppercases) and math_utils.py (function area(l,w)).\n",
    "Then a main.py that imports with both import ... as ... and from ... import .... Explain namespace collisions and why aliases help."
   ]
  },
  {
   "cell_type": "markdown",
   "id": "8e7f9eac-c35a-4597-a9fc-eb132b1102e3",
   "metadata": {},
   "source": [
    "# Prompt (Paste Verbatim)"
   ]
  },
  {
   "cell_type": "markdown",
   "id": "b4f1109d-af1e-49e7-a960-f63f2296c3cf",
   "metadata": {},
   "source": [
    "Create a package helpers/ with modules string_utils.py (function shout(s) uppercases) and math_utils.py (function area(l,w)).\n",
    "Then a main.py that imports with both import ... as ... and from ... import .... Explain namespace collisions and why aliases help"
   ]
  },
  {
   "cell_type": "markdown",
   "id": "1b507526-d96e-4250-becd-f1c65dfb8c2a",
   "metadata": {},
   "source": [
    "# Code ChatGPT (Paste Verbatim)"
   ]
  },
  {
   "cell_type": "code",
   "execution_count": 5,
   "id": "e9305edc-8795-4d82-9bb1-b631b42e4836",
   "metadata": {},
   "outputs": [
    {
     "name": "stdout",
     "output_type": "stream",
     "text": [
      "=== Using Aliases ===\n",
      "HELLO\n",
      "15\n",
      "\n",
      "=== Using Direct Import ===\n",
      "WORLD\n",
      "40\n"
     ]
    }
   ],
   "source": [
    "import helpers.string_utils as su\n",
    "import helpers.math_utils as mu\n",
    "\n",
    "# Import functions directly\n",
    "from helpers.string_utils import shout\n",
    "from helpers.math_utils import area\n",
    "\n",
    "# Using aliases\n",
    "print(\"=== Using Aliases ===\")\n",
    "print(su.shout(\"hello\"))         # HELLO\n",
    "print(mu.area(5, 3))             # 15\n",
    "\n",
    "# Using direct imports\n",
    "print(\"\\n=== Using Direct Import ===\")\n",
    "print(shout(\"world\"))            # WORLD\n",
    "print(area(10, 4))      "
   ]
  },
  {
   "cell_type": "markdown",
   "id": "92516526-efdb-46f7-a312-94ce50ff993a",
   "metadata": {},
   "source": [
    "# Critique"
   ]
  },
  {
   "cell_type": "markdown",
   "id": "2cfd4e69-5398-458b-bd05-7cfcc3904d8b",
   "metadata": {},
   "source": [
    "CORRECTNESS:\n",
    "The code works correctly. The helpers package and its modules run without errors. Both functions (shout and area) give the right results. The use of module is quite convenient beacuse you can just import it anywhere possible. \n",
    " Reference : Lecture_7 - The concept of modules was in page 2. It explains the four main advantage of using modules\n",
    "\n",
    "COMPLEXITY:\n",
    "The code is simple.The funtions area simply returns the product and the shout simply retruns upprcase version of the string. The logic is clear and there are no extra steps.\n",
    "\n",
    "READABILITY:\n",
    "The code is easy to read and understand. Function and variable names make sense (area, shout, su, mu). The folder and file structure is organized.\n",
    "Reference : Lecture_7 - Module files name must be valid Python identifiers \n",
    "\n",
    "ROBUSTNESS:\n",
    "The code works for normal inputs but doesn’t check for wrong input types (like numbers instead of strings). Adding simple checks could make it stronger.\n",
    "\n",
    "FAITHFULNESS:\n",
    "The code does what the task asked: it has a package with two modules, each module has a function, and it shows two ways to import them. It also talks about namespace collisions, but doesn’t show an actual example of a collision.\n",
    "\n",
    "NAMESPACE COLLISION EXPLANATION:\n",
    "If two modules have functions or variables with the same name, importing both directly into the same namespace can overwrite one of them an this will create a namespace collision. Th way to solve it is to use aliasses\n",
    "Reference : Lecture_7 - SCOPING: MODULES HAVE THEIR OWN NAMESPACES\n",
    "\n"
   ]
  },
  {
   "cell_type": "markdown",
   "id": "61fb61f1-4131-439e-9835-0b5a35b81eb8",
   "metadata": {},
   "source": [
    "# Improved Code"
   ]
  },
  {
   "cell_type": "code",
   "execution_count": 3,
   "id": "bff1cd92-ede8-4f91-a352-a919fed39397",
   "metadata": {},
   "outputs": [
    {
     "name": "stdout",
     "output_type": "stream",
     "text": [
      "=== Using Aliases ===\n",
      "HELLO\n",
      "15\n",
      "\n",
      "=== Using Direct Import ===\n",
      "WORLD\n",
      "20\n"
     ]
    }
   ],
   "source": [
    "import helpers.string_utils as su\n",
    "import helpers.math_utils as mu\n",
    "\n",
    "from helpers.string_utils import shout_improved\n",
    "from helpers.math_utils import area_improved\n",
    "\n",
    "\n",
    "print(\"=== Using Aliases ===\")\n",
    "print(su.shout_improved(\"hello\"))        \n",
    "print(mu.area_improved(5, 3))             \n",
    "\n",
    "\n",
    "print(\"\\n=== Using Direct Import ===\")\n",
    "print(shout_improved(\"world\"))           \n",
    "print(area_improved(5, 4))      "
   ]
  },
  {
   "cell_type": "markdown",
   "id": "2241a96f-1bff-4f1c-9a91-34f466f93fe4",
   "metadata": {},
   "source": [
    "# Q10. Robust Temperature Converter (Functions + Exceptions)."
   ]
  },
  {
   "cell_type": "markdown",
   "id": "30dfb606-daf3-47b1-90c3-8f098e5a01b7",
   "metadata": {},
   "source": [
    "Write two functions: cel_to_far(c) and far_to_cel(f) with type hints and docstrings. Build a\n",
    "CLI that asks the user which direction to convert and validates input (gracefully\n",
    "handles bad entries). Include unit tests (doctest or simple asserts) covering typical\n",
    "3 and edge cases (e.g., -40). Anchor concepts: writing functions, control flow, input\n",
    "handling, testing.\n"
   ]
  },
  {
   "cell_type": "markdown",
   "id": "23b66f69-4b89-4ab5-9d01-b9d2a303ea76",
   "metadata": {},
   "source": [
    "# Prompt (Paste Verbatim)\n"
   ]
  },
  {
   "cell_type": "markdown",
   "id": "0ebeba2f-6d93-41f3-9327-c83dca0658d4",
   "metadata": {},
   "source": [
    "Write two functions: cel_to_far(c) and far_to_cel(f) with type hints and docstrings. Build a\n",
    "CLI that asks the user which direction to convert and validates input (gracefully\n",
    "handles bad entries). Include unit tests (doctest or simple asserts) covering typical\n",
    "3 and edge cases (e.g., -40). Anchor concepts: writing functions, control flow, input\n",
    "handling, testing."
   ]
  },
  {
   "cell_type": "markdown",
   "id": "74d836d0-800a-49bd-93cc-bd363bbaa838",
   "metadata": {},
   "source": [
    "# Code ChatGPT (Paste Verbatim)"
   ]
  },
  {
   "cell_type": "code",
   "execution_count": null,
   "id": "6283a24a-df88-41c5-a9fc-0574f3f4b60f",
   "metadata": {},
   "outputs": [],
   "source": [
    "def cel_to_far(c):\n",
    "    return c * 9/5 + 32\n",
    "\n",
    "def far_to_cel(f):\n",
    "    return (f - 32) * 5/9\n",
    "\n",
    "direction = input(\"Convert to Celsius or Fahrenheit? (C/F): \").strip().upper()\n",
    "\n",
    "if direction == \"C\":\n",
    "    f = float(input(\"Enter Fahrenheit: \"))\n",
    "    print(f\"{f}°F is {far_to_cel(f):.2f}°C\")\n",
    "elif direction == \"F\":\n",
    "    c = float(input(\"Enter Celsius: \"))\n",
    "    print(f\"{c}°C is {cel_to_far(c):.2f}°F\")\n",
    "else:\n",
    "    print(\"Invalid choice\")"
   ]
  },
  {
   "cell_type": "markdown",
   "id": "694de2d2-a3cf-45f9-8231-ee557e14861b",
   "metadata": {},
   "source": [
    "# Critique"
   ]
  },
  {
   "cell_type": "markdown",
   "id": "20a826bf-1fe8-4e1a-bd5a-f763b88bf82b",
   "metadata": {},
   "source": [
    "Correctness:\n",
    "The code works for normal inputs. It converts temperatures between Celsius and Fahrenheit correctly.\n",
    "It checks if the user wants \"C\" or \"F\".\n",
    "\n",
    "Reference: Lecture_3 - this conversion function was  covered in the previos lession which is a challenge(Page 9)\n",
    "      \n",
    "Complexity:\n",
    "Very simple. Each function does just one thing. The program logic is easy to follow.\n",
    "\n",
    "Readability:\n",
    "Function names (cel_to_far, far_to_cel) are clear.\n",
    "Variable names (c, f, direction) are short but understandable.\n",
    "Could be better with small comments or docstrings explaining the functions.\n",
    "\n",
    "Robustness:\n",
    "Doesn’t check if the user types something that isn’t a number. It will crash in that case.\n",
    "If the user types something other than \"C\" or \"F\", it just prints \"Invalid choice\" and stops.\n",
    "\n",
    "Faithfulness:\n",
    "The code does what it’s supposed to: converts temperatures.\n",
    "Could be improved by:\n",
    "Checking input for errors\n",
    "Handling edge cases like -40\n",
    "Letting the user try again if they type something wrong"
   ]
  },
  {
   "cell_type": "markdown",
   "id": "2d8068b7-4dbb-435d-8771-79e3f9c1f8ce",
   "metadata": {},
   "source": [
    "# Improved Code"
   ]
  },
  {
   "cell_type": "code",
   "execution_count": 4,
   "id": "4dadd368-576d-43dd-8099-78ad8930209e",
   "metadata": {},
   "outputs": [
    {
     "name": "stdout",
     "output_type": "stream",
     "text": [
      "Temperature Converter\n",
      "-------------------\n"
     ]
    },
    {
     "name": "stdin",
     "output_type": "stream",
     "text": [
      "Convert to Celsius or Fahrenheit? (C/F):  C\n",
      "Enter the temperature to convert:  45\n"
     ]
    },
    {
     "name": "stdout",
     "output_type": "stream",
     "text": [
      "45.0°F is 7.22°C\n"
     ]
    }
   ],
   "source": [
    "# improved_temperature_converter.py\n",
    "\n",
    "def cel_to_far(c: float) -> float:\n",
    "    \"\"\"Convert Celsius to Fahrenheit.\"\"\"\n",
    "    return c * 9 / 5 + 32\n",
    "\n",
    "\n",
    "def far_to_cel(f: float) -> float:\n",
    "    \"\"\"Convert Fahrenheit to Celsius.\"\"\"\n",
    "    return (f - 32) * 5 / 9\n",
    "\n",
    "\n",
    "def main():\n",
    "    print(\"Temperature Converter\")\n",
    "    print(\"-------------------\")\n",
    "    \n",
    "    # Ask for conversion direction\n",
    "    while True:\n",
    "        direction = input(\"Convert to Celsius or Fahrenheit? (C/F): \").strip().upper()\n",
    "        if direction in (\"C\", \"F\"):\n",
    "            break\n",
    "        print(\"Invalid choice. Please enter 'C' or 'F'.\")\n",
    "    \n",
    "    # Ask for temperature with validation\n",
    "    while True:\n",
    "        temp_input = input(\"Enter the temperature to convert: \").strip()\n",
    "        try:\n",
    "            temp = float(temp_input)\n",
    "            break\n",
    "        except ValueError:\n",
    "            print(\"Invalid number. Please enter a numeric value.\")\n",
    "    \n",
    "    # Perform conversion\n",
    "    if direction == \"C\":\n",
    "        result = far_to_cel(temp)\n",
    "        print(f\"{temp}°F is {result:.2f}°C\")\n",
    "    else:\n",
    "        result = cel_to_far(temp)\n",
    "        print(f\"{temp}°C is {result:.2f}°F\")\n",
    "\n",
    "\n",
    "if __name__ == \"__main__\":\n",
    "    main()"
   ]
  },
  {
   "cell_type": "code",
   "execution_count": null,
   "id": "4ca9c945-769e-41e5-8a0d-aa3871fbedc8",
   "metadata": {},
   "outputs": [],
   "source": []
  }
 ],
 "metadata": {
  "kernelspec": {
   "display_name": "Python 3 (ipykernel)",
   "language": "python",
   "name": "python3"
  },
  "language_info": {
   "codemirror_mode": {
    "name": "ipython",
    "version": 3
   },
   "file_extension": ".py",
   "mimetype": "text/x-python",
   "name": "python",
   "nbconvert_exporter": "python",
   "pygments_lexer": "ipython3",
   "version": "3.13.5"
  }
 },
 "nbformat": 4,
 "nbformat_minor": 5
}
