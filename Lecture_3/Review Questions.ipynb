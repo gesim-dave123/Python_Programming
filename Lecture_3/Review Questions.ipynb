{
 "cells": [
  {
   "cell_type": "markdown",
   "id": "89f98535-3df4-48b1-a253-89d0d23e7797",
   "metadata": {},
   "source": [
    "# Review Question 1\n",
    "    "
   ]
  },
  {
   "cell_type": "code",
   "execution_count": 19,
   "id": "cfe3b674-48b0-4a0c-b3c8-f434052ef9e0",
   "metadata": {},
   "outputs": [
    {
     "data": {
      "text/plain": [
       "27"
      ]
     },
     "execution_count": 19,
     "metadata": {},
     "output_type": "execute_result"
    }
   ],
   "source": [
    "def cube(number):\n",
    "    return number ** 3\n",
    "\n",
    "cube(3)"
   ]
  },
  {
   "cell_type": "code",
   "execution_count": 20,
   "id": "24e3b6d2-cae7-4b01-a94a-a2a2ac167049",
   "metadata": {},
   "outputs": [
    {
     "data": {
      "text/plain": [
       "'Hello dave'"
      ]
     },
     "execution_count": 20,
     "metadata": {},
     "output_type": "execute_result"
    }
   ],
   "source": [
    "def greet(name):\n",
    "    return f\"Hello {name}\"\n",
    "    \n",
    "greet(\"dave\")"
   ]
  },
  {
   "cell_type": "markdown",
   "id": "925aadd7-101b-44c6-b27a-b39e0ca59bb0",
   "metadata": {},
   "source": [
    "# Review Question 2"
   ]
  },
  {
   "cell_type": "code",
   "execution_count": 13,
   "id": "16b7ad15-d359-4730-bddb-5d6071fb2337",
   "metadata": {},
   "outputs": [
    {
     "name": "stdin",
     "output_type": "stream",
     "text": [
      "Enter a temperature in degrees F: 45\n"
     ]
    },
    {
     "data": {
      "text/plain": [
       "'45 degrees C = 113.00 degrees F'"
      ]
     },
     "execution_count": 13,
     "metadata": {},
     "output_type": "execute_result"
    }
   ],
   "source": [
    "\n",
    "def convert_cel_to_far(celcius):\n",
    "    return  float((celcius * 9/5) + 32)\n",
    "    \n",
    "celcius = int(input(\"Enter a temperature in degrees F:\" ))\n",
    "                    \n",
    "farenheit =convert_cel_to_far(celcius)\n",
    "f\"{celcius} degrees C = {farenheit:.2f} degrees F\"\n"
   ]
  },
  {
   "cell_type": "code",
   "execution_count": null,
   "id": "0ff6a25f-3eed-467e-89cf-2028e1536b49",
   "metadata": {},
   "outputs": [],
   "source": []
  },
  {
   "cell_type": "code",
   "execution_count": 18,
   "id": "4b25f338-02d6-413d-8fd1-e81a0a80fd53",
   "metadata": {},
   "outputs": [
    {
     "name": "stdin",
     "output_type": "stream",
     "text": [
      "Enter a temperature in degrees F: 34\n"
     ]
    },
    {
     "data": {
      "text/plain": [
       "'34 degrees F = 1.11 degrees C'"
      ]
     },
     "execution_count": 18,
     "metadata": {},
     "output_type": "execute_result"
    }
   ],
   "source": [
    "def convert_far_to_cel(farenheit):\n",
    "    return float((farenheit - 32) * 5/9)\n",
    "farenheit = int(input(\"Enter a temperature in degrees F:\" ))\n",
    "celcius = convert_far_to_cel(farenheit)\n",
    "f\"{farenheit} degrees F = {celcius:.2f} degrees C\"\n"
   ]
  },
  {
   "cell_type": "code",
   "execution_count": null,
   "id": "08f0ad8c-764e-420a-8a75-15b41aa58219",
   "metadata": {},
   "outputs": [],
   "source": []
  },
  {
   "cell_type": "markdown",
   "id": "dd91aff6-c85c-4495-8dd0-020e11f1cc88",
   "metadata": {},
   "source": [
    "# Review Question 3"
   ]
  },
  {
   "cell_type": "code",
   "execution_count": 23,
   "id": "0ddb221e-a327-44ee-a154-b4798206bbbe",
   "metadata": {},
   "outputs": [
    {
     "name": "stdout",
     "output_type": "stream",
     "text": [
      "2\n",
      "3\n",
      "4\n",
      "5\n",
      "6\n",
      "7\n",
      "8\n",
      "9\n"
     ]
    }
   ],
   "source": [
    "for num in range(2,10):\n",
    "    print(num)\n",
    "    "
   ]
  },
  {
   "cell_type": "code",
   "execution_count": 22,
   "id": "4d28c5da-2414-40da-be39-6d9214bc2544",
   "metadata": {},
   "outputs": [
    {
     "name": "stdout",
     "output_type": "stream",
     "text": [
      "2\n",
      "3\n",
      "4\n",
      "5\n",
      "6\n",
      "7\n",
      "8\n",
      "9\n"
     ]
    }
   ],
   "source": [
    "i = 2;\n",
    "while i < 10:\n",
    "    print(i)\n",
    "    i = i +1"
   ]
  },
  {
   "cell_type": "code",
   "execution_count": 21,
   "id": "1cd6b1b9-5aef-41fb-8149-e01c1550bb57",
   "metadata": {},
   "outputs": [
    {
     "name": "stdout",
     "output_type": "stream",
     "text": [
      "4\n",
      "8\n",
      "16\n"
     ]
    }
   ],
   "source": [
    "num = 2\n",
    "def doubles(num):\n",
    "    for n in range(0,3):\n",
    "        num = num * 2\n",
    "        print(num) \n",
    "\n",
    "doubles(2)"
   ]
  },
  {
   "cell_type": "code",
   "execution_count": null,
   "id": "3ba72820-7766-4494-b939-e792d77b277d",
   "metadata": {},
   "outputs": [],
   "source": []
  },
  {
   "cell_type": "code",
   "execution_count": null,
   "id": "ce0d8804-c885-4279-90bc-b4b06766da77",
   "metadata": {},
   "outputs": [],
   "source": []
  }
 ],
 "metadata": {
  "kernelspec": {
   "display_name": "Python 3 (ipykernel)",
   "language": "python",
   "name": "python3"
  },
  "language_info": {
   "codemirror_mode": {
    "name": "ipython",
    "version": 3
   },
   "file_extension": ".py",
   "mimetype": "text/x-python",
   "name": "python",
   "nbconvert_exporter": "python",
   "pygments_lexer": "ipython3",
   "version": "3.13.5"
  }
 },
 "nbformat": 4,
 "nbformat_minor": 5
}
