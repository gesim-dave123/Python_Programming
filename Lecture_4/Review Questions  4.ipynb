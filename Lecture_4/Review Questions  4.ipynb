{
 "cells": [
  {
   "cell_type": "markdown",
   "id": "37eb1faa-98a5-4b9d-83a5-9cecc6e26d26",
   "metadata": {},
   "source": [
    "# Review Question 1\n"
   ]
  },
  {
   "cell_type": "code",
   "execution_count": 9,
   "id": "714f5794-b917-4afb-b4a7-61203418363d",
   "metadata": {},
   "outputs": [
    {
     "name": "stdout",
     "output_type": "stream",
     "text": [
      "True\n",
      "False\n",
      "True\n",
      "True\n",
      "True\n",
      "False\n"
     ]
    }
   ],
   "source": [
    "print(1 <= 1)\n",
    "print(1 != 1)\n",
    "print(1 !=2)\n",
    "print(\"good\" != \"bad\")\n",
    "print(\"good\" != \"Good\")\n",
    "print(123 == \"123\")\n"
   ]
  },
  {
   "cell_type": "code",
   "execution_count": 11,
   "id": "57cae937-67ca-49dc-8574-a223c618d488",
   "metadata": {},
   "outputs": [
    {
     "name": "stdout",
     "output_type": "stream",
     "text": [
      "True\n",
      "True\n",
      "True\n",
      "True\n"
     ]
    }
   ],
   "source": [
    "print(3 < 4)\n",
    "print(10 > 5)\n",
    "print(\"jack\" != \"jill\")\n",
    "print(42 != \"42\")"
   ]
  },
  {
   "cell_type": "markdown",
   "id": "45bf7e5c-e7b8-4c37-b728-5a6833eef3c2",
   "metadata": {},
   "source": [
    "# Review Question 2\n"
   ]
  },
  {
   "cell_type": "code",
   "execution_count": 21,
   "id": "2f5969c4-4a8e-4691-aa2d-9b106b802ae6",
   "metadata": {},
   "outputs": [
    {
     "name": "stdout",
     "output_type": "stream",
     "text": [
      "False\n",
      "False\n",
      "True\n",
      "False\n"
     ]
    }
   ],
   "source": [
    "print((1 <= 1) and (1 != 1))\n",
    "print(not (1 != 2))\n",
    "print((\"good\" != \"bad\") or False)\n",
    "print((\"good\" != \"Good\") and not (1 == 1))"
   ]
  },
  {
   "cell_type": "code",
   "execution_count": 30,
   "id": "725f5e34-cfc4-4053-bd56-8ab6d4779a87",
   "metadata": {},
   "outputs": [
    {
     "name": "stdout",
     "output_type": "stream",
     "text": [
      "True\n",
      "True\n",
      "True\n"
     ]
    }
   ],
   "source": [
    "print(False == (not True))\n",
    "print((True and False) == (True and False))\n",
    "print(not (True and \"A\" == \"B\"))"
   ]
  },
  {
   "cell_type": "markdown",
   "id": "605fb7f1-191a-4b40-b567-cbd728e8cb67",
   "metadata": {},
   "source": [
    "# Review Question 3"
   ]
  },
  {
   "cell_type": "code",
   "execution_count": 39,
   "id": "feb31153-2f66-4aba-9026-0dcb6f9d66c5",
   "metadata": {},
   "outputs": [
    {
     "name": "stdin",
     "output_type": "stream",
     "text": [
      "Enter a word werftyuiuytrew\n"
     ]
    },
    {
     "name": "stdout",
     "output_type": "stream",
     "text": [
      "Number of character in the word werftyuiuytrew is greater than 5\n"
     ]
    }
   ],
   "source": [
    "word = input(\"Enter a word\")\n",
    "if len(word) < 5:\n",
    "    print(f\"Number of character in the word {word} is less than 5\")\n",
    "elif len(word) > 5:\n",
    "    print(f\"Number of character in the word {word} is greater than 5\")\n",
    "else:\n",
    "    print(f\"Number of character in the word {word} is equal to 5\")"
   ]
  },
  {
   "cell_type": "markdown",
   "id": "80fb626d-7cfe-4b28-863e-555f65eb0738",
   "metadata": {},
   "source": [
    "# Review Question 4"
   ]
  },
  {
   "cell_type": "code",
   "execution_count": 46,
   "id": "9c0ee82d-25a9-44c9-a4e8-0685c090b4b4",
   "metadata": {},
   "outputs": [
    {
     "name": "stdin",
     "output_type": "stream",
     "text": [
      "Input:  ww\n",
      "Input:  w\n",
      "Input:  q\n"
     ]
    }
   ],
   "source": [
    "isTrue = False\n",
    "while not isTrue:\n",
    "    userInput = input(\"Input: \")\n",
    "    if(userInput == \"Q\" or userInput == \"q\"):\n",
    "        isTrue = True;\n",
    "        break;\n",
    "    "
   ]
  },
  {
   "cell_type": "code",
   "execution_count": 11,
   "id": "9e7dd9e4-5f9f-4ab4-8e1a-c36082ff353e",
   "metadata": {},
   "outputs": [
    {
     "name": "stdout",
     "output_type": "stream",
     "text": [
      "1\n",
      "2\n",
      "4\n",
      "5\n",
      "7\n",
      "8\n",
      "10\n",
      "11\n",
      "13\n",
      "14\n",
      "16\n",
      "17\n",
      "19\n",
      "20\n",
      "22\n",
      "23\n",
      "25\n",
      "26\n",
      "28\n",
      "29\n",
      "31\n",
      "32\n",
      "34\n",
      "35\n",
      "37\n",
      "38\n",
      "40\n",
      "41\n",
      "43\n",
      "44\n",
      "46\n",
      "47\n",
      "49\n"
     ]
    }
   ],
   "source": [
    "for n in range(1,50):\n",
    "    if n % 3 == 0:\n",
    "        continue\n",
    "    print(n)"
   ]
  },
  {
   "cell_type": "markdown",
   "id": "10137390-e2e8-450f-a4d2-e5a3f422fefb",
   "metadata": {},
   "source": [
    "# Review Quesation 5"
   ]
  },
  {
   "cell_type": "code",
   "execution_count": 8,
   "id": "562c56e8-1079-41d4-b632-b3293422214c",
   "metadata": {},
   "outputs": [
    {
     "name": "stdin",
     "output_type": "stream",
     "text": [
      "Enter an integer 45\n"
     ]
    },
    {
     "name": "stdout",
     "output_type": "stream",
     "text": [
      "The number you entered is 45, it is an integer\n"
     ]
    }
   ],
   "source": [
    "while True:\n",
    "    try:\n",
    "        user_input = int(input(\"Enter an integer\"))\n",
    "        break;\n",
    "    except:\n",
    "        print(\"Try Again\")\n",
    "\n",
    "print(f\"The number you entered is {user_input}, it is an integer\")\n",
    "    \n",
    "\n",
    "\n",
    "\n"
   ]
  },
  {
   "cell_type": "code",
   "execution_count": 12,
   "id": "b3478e25-f925-49bb-8710-fb580b9ebc8f",
   "metadata": {},
   "outputs": [
    {
     "name": "stdin",
     "output_type": "stream",
     "text": [
      "Enter a string qwerty\n",
      "Enter an index 3\n"
     ]
    },
    {
     "name": "stdout",
     "output_type": "stream",
     "text": [
      " The character in the index 3 is r\n"
     ]
    }
   ],
   "source": [
    "user_input = input(\"Enter a string\")\n",
    "index_input = int(input(\"Enter an index\")) \n",
    "print(f\"The character in the index {index_input} is {user_input[index_input]}\")"
   ]
  },
  {
   "cell_type": "markdown",
   "id": "78a9cbc6-12ae-4a37-ad79-dd3cfbc1092f",
   "metadata": {},
   "source": [
    "# Review Question 6"
   ]
  },
  {
   "cell_type": "code",
   "execution_count": 44,
   "id": "e56013e8-3333-4b16-8f3f-ac16a4766da3",
   "metadata": {},
   "outputs": [
    {
     "data": {
      "text/plain": [
       "3"
      ]
     },
     "execution_count": 44,
     "metadata": {},
     "output_type": "execute_result"
    }
   ],
   "source": [
    "import random\n",
    "\n",
    "def roll():\n",
    "    return random.randint(1,6)\n",
    "roll()\n",
    "    "
   ]
  },
  {
   "cell_type": "code",
   "execution_count": 79,
   "id": "6dfa63f0-82f9-4f72-82ef-af99c383c736",
   "metadata": {},
   "outputs": [
    {
     "name": "stdout",
     "output_type": "stream",
     "text": [
      "Average number rolled is : 3.51\n"
     ]
    }
   ],
   "source": [
    "import random\n",
    "\n",
    "def roll():\n",
    "    return random.randint(1,6)\n",
    "\n",
    "total = 0\n",
    "for trial in range(1,10000):\n",
    "    total += roll()\n",
    "   \n",
    "Average_number = total / 10000 \n",
    "print(f'Average number rolled is : {Average_number:.2f}')"
   ]
  },
  {
   "cell_type": "markdown",
   "id": "3782baa4-35b6-472a-84f9-7843868680a8",
   "metadata": {},
   "source": [
    "# CHALLENGE: SIMULATE AN ELECTION\n"
   ]
  },
  {
   "cell_type": "code",
   "execution_count": 18,
   "id": "4db3775c-ed36-4e9b-a1dc-be8b6e8caa2d",
   "metadata": {},
   "outputs": [
    {
     "name": "stdout",
     "output_type": "stream",
     "text": [
      "Estimated probability Candidate A wins overall: 63.17%\n"
     ]
    }
   ],
   "source": [
    "import random\n",
    "\n",
    "def voting(probability_of_winning):\n",
    "    return random.random() < probability_of_winning / 100\n",
    "\n",
    "\n",
    "trials = 100000\n",
    "a_wins = 0\n",
    "\n",
    "for _ in range(trials):\n",
    "    region1 = voting(87)\n",
    "    region2 = voting(65)\n",
    "    region3 = voting(17)\n",
    "    \n",
    " \n",
    "    if sum([region1, region2, region3]) >= 2:\n",
    "        a_wins += 1\n",
    "\n",
    "probability = a_wins / trials\n",
    "print(f\"Estimated probability Candidate A wins overall: {probability:.2%}\")"
   ]
  },
  {
   "cell_type": "code",
   "execution_count": null,
   "id": "d9a09a00-fc24-4dae-b6f6-e02f97e77b37",
   "metadata": {},
   "outputs": [],
   "source": [
    "\n"
   ]
  },
  {
   "cell_type": "code",
   "execution_count": null,
   "id": "4afee724-d829-4c27-8309-8c912698d5b0",
   "metadata": {},
   "outputs": [],
   "source": []
  },
  {
   "cell_type": "code",
   "execution_count": null,
   "id": "ac01cab7-daf9-4a6c-a42a-1fc68c70b3e3",
   "metadata": {},
   "outputs": [],
   "source": [
    "\n",
    "\n"
   ]
  },
  {
   "cell_type": "code",
   "execution_count": null,
   "id": "9f916ae3-fe1f-4262-8c73-db529a56460d",
   "metadata": {},
   "outputs": [],
   "source": []
  }
 ],
 "metadata": {
  "kernelspec": {
   "display_name": "Python 3 (ipykernel)",
   "language": "python",
   "name": "python3"
  },
  "language_info": {
   "codemirror_mode": {
    "name": "ipython",
    "version": 3
   },
   "file_extension": ".py",
   "mimetype": "text/x-python",
   "name": "python",
   "nbconvert_exporter": "python",
   "pygments_lexer": "ipython3",
   "version": "3.13.5"
  }
 },
 "nbformat": 4,
 "nbformat_minor": 5
}
