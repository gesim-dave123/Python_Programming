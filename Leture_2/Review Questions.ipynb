{
 "cells": [
  {
   "cell_type": "markdown",
   "id": "96b4b7d0-af6a-4995-8e61-329f5d0c5f76",
   "metadata": {},
   "source": [
    "# Review Question 1\n",
    "________________________________________________________________________________________________________"
   ]
  },
  {
   "cell_type": "code",
   "execution_count": 1,
   "id": "c1bb32bd-ff3c-411a-b26b-7b55a9f368ee",
   "metadata": {},
   "outputs": [
    {
     "name": "stdout",
     "output_type": "stream",
     "text": [
      "(25, 0, 0)\n",
      "25000000\n"
     ]
    }
   ],
   "source": [
    "num1 = 25,000,000\n",
    "num2 = 25_000_000\n",
    "print(num1)\n",
    "print(num2)"
   ]
  },
  {
   "cell_type": "code",
   "execution_count": 2,
   "id": "b90f3e9a-4b3d-4ea8-b1aa-2d6266d8efd5",
   "metadata": {},
   "outputs": [
    {
     "name": "stdout",
     "output_type": "stream",
     "text": [
      "175000.0\n"
     ]
    }
   ],
   "source": [
    "num = 175e3\n",
    "print(num)\n"
   ]
  },
  {
   "cell_type": "code",
   "execution_count": 51,
   "id": "813f4538-cfeb-49f1-80c2-35d783eb98ed",
   "metadata": {},
   "outputs": [
    {
     "name": "stdout",
     "output_type": "stream",
     "text": [
      "inf\n"
     ]
    }
   ],
   "source": [
    "num = 2e308\n",
    "print(num)"
   ]
  },
  {
   "cell_type": "markdown",
   "id": "b239d71a-9285-4241-9a63-7dd3825f685b",
   "metadata": {},
   "source": [
    "# Review Question 2\n",
    "___________________________________________________________"
   ]
  },
  {
   "cell_type": "code",
   "execution_count": 7,
   "id": "e62a09c5-1df7-435a-92a2-3bbd4655aad5",
   "metadata": {},
   "outputs": [
    {
     "name": "stdin",
     "output_type": "stream",
     "text": [
      "Enter the first number : 3\n",
      "Enter the second number : 4\n"
     ]
    },
    {
     "name": "stdout",
     "output_type": "stream",
     "text": [
      "result : 30000.0\n"
     ]
    }
   ],
   "source": [
    "prompt=\"Enter the first number :\"\n",
    "num1 = input(prompt)\n",
    "prompt2 = \"Enter the second number :\"\n",
    "num2 = input(prompt2)\n",
    "result = float(num1+\"e\"+num2)\n",
    "print(\"result :\",result)"
   ]
  },
  {
   "cell_type": "markdown",
   "id": "c8522d31-82d0-4597-bc67-edea4cece529",
   "metadata": {},
   "source": [
    "# Review Question 3\n",
    "___________________________________________________________\n"
   ]
  },
  {
   "cell_type": "code",
   "execution_count": 22,
   "id": "ea20f554-0b77-4f64-b217-09f1c0d2bc15",
   "metadata": {},
   "outputs": [
    {
     "name": "stdin",
     "output_type": "stream",
     "text": [
      "Enter a number : 5.432\n"
     ]
    },
    {
     "name": "stdout",
     "output_type": "stream",
     "text": [
      "5.432 rounded to 2 decimal places is  5.43\n"
     ]
    }
   ],
   "source": [
    "prompt = \"Enter a number :\"\n",
    "num = input(prompt)\n",
    "result = float(num)\n",
    "print(num , \"rounded to 2 decimal places is \" , round(result,2))"
   ]
  },
  {
   "cell_type": "code",
   "execution_count": 26,
   "id": "333b3033-6fe5-4fc2-b6ac-1961ecb6343e",
   "metadata": {},
   "outputs": [
    {
     "name": "stdin",
     "output_type": "stream",
     "text": [
      "Enter a number : -10\n"
     ]
    },
    {
     "name": "stdout",
     "output_type": "stream",
     "text": [
      "Th absolute value of  -10  is  10\n"
     ]
    }
   ],
   "source": [
    "prompt = \"Enter a number :\"\n",
    "num = input(prompt)\n",
    "result = int(num)\n",
    "print(\"Th absolute value of \" , num , \" is \", abs(result))"
   ]
  },
  {
   "cell_type": "markdown",
   "id": "13062cda-c988-49ee-a983-11d8efded921",
   "metadata": {},
   "source": [
    "# Review Question 4\n",
    "___________________________________________________________\n"
   ]
  },
  {
   "cell_type": "code",
   "execution_count": 39,
   "id": "53c9738d-f9b9-4bbd-9109-b1f7019d9150",
   "metadata": {},
   "outputs": [
    {
     "name": "stdin",
     "output_type": "stream",
     "text": [
      "Enter a number:  1.5\n",
      "Enter another number 1.0\n"
     ]
    },
    {
     "name": "stdout",
     "output_type": "stream",
     "text": [
      "The difference between  1.5 and 1.0 is an Integer? False !\n"
     ]
    }
   ],
   "source": [
    "prompt = \"Enter a number: \"\n",
    "num1 = input(prompt)\n",
    "prompt2 = \"Enter another number\"\n",
    "num2 = input(prompt2)\n",
    "diff = float(num1) - float(num2)\n",
    "print(\"The difference between \", num1 , \"and\" , num2 ,\"is an Integer?\" ,diff.is_integer() ,\"!\" )"
   ]
  },
  {
   "cell_type": "code",
   "execution_count": 40,
   "id": "0cb6ab82-d60a-4537-8c4b-840f9fedd42e",
   "metadata": {},
   "outputs": [
    {
     "name": "stdout",
     "output_type": "stream",
     "text": [
      "1.147\n"
     ]
    }
   ],
   "source": [
    "num = 3**.125\n",
    "print( round(num,3))"
   ]
  },
  {
   "cell_type": "code",
   "execution_count": 46,
   "id": "db89d913-248e-44ed-a072-81ac5f7a686d",
   "metadata": {},
   "outputs": [
    {
     "name": "stdout",
     "output_type": "stream",
     "text": [
      "Result :  $150000.00\n"
     ]
    }
   ],
   "source": [
    "num = 150000\n",
    "print(\"Result : \", f\"${num:.2f}\",)\n"
   ]
  },
  {
   "cell_type": "code",
   "execution_count": 50,
   "id": "eec333a9-7fab-4c2d-b3b0-7bff278d304a",
   "metadata": {},
   "outputs": [
    {
     "name": "stdout",
     "output_type": "stream",
     "text": [
      "Result : 20%\n"
     ]
    }
   ],
   "source": [
    "num = 2/ 10\n",
    "print(\"Result :\",f\"{num:.0%}\")"
   ]
  },
  {
   "cell_type": "code",
   "execution_count": null,
   "id": "f8326ddb-1dd3-4959-939d-ab059232b5c2",
   "metadata": {},
   "outputs": [],
   "source": []
  }
 ],
 "metadata": {
  "kernelspec": {
   "display_name": "Python 3 (ipykernel)",
   "language": "python",
   "name": "python3"
  },
  "language_info": {
   "codemirror_mode": {
    "name": "ipython",
    "version": 3
   },
   "file_extension": ".py",
   "mimetype": "text/x-python",
   "name": "python",
   "nbconvert_exporter": "python",
   "pygments_lexer": "ipython3",
   "version": "3.13.5"
  }
 },
 "nbformat": 4,
 "nbformat_minor": 5
}
