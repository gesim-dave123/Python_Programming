{
 "cells": [
  {
   "cell_type": "code",
   "execution_count": 4,
   "id": "f7b86029-97ec-4a53-98c7-338e7f41baf6",
   "metadata": {},
   "outputs": [
    {
     "name": "stdout",
     "output_type": "stream",
     "text": [
      " THE AREA OF A 5-BY-8 RECTANGLE IS 40\n"
     ]
    }
   ],
   "source": [
    "from helpers.string import shout\n",
    "from helpers.math import area\n",
    "\n",
    "name = shout(\"rectangle\")\n",
    "product = area(5,8)\n",
    "print(f\" THE AREA OF A 5-BY-8 {name} IS {product}\")\n"
   ]
  },
  {
   "cell_type": "code",
   "execution_count": null,
   "id": "4ca62694-f31c-41e2-bfb9-5ab2d61abe70",
   "metadata": {},
   "outputs": [],
   "source": []
  },
  {
   "cell_type": "code",
   "execution_count": null,
   "id": "f35375f5-15d6-4e6c-a4ad-417fd5569689",
   "metadata": {},
   "outputs": [],
   "source": []
  }
 ],
 "metadata": {
  "kernelspec": {
   "display_name": "Python 3 (ipykernel)",
   "language": "python",
   "name": "python3"
  },
  "language_info": {
   "codemirror_mode": {
    "name": "ipython",
    "version": 3
   },
   "file_extension": ".py",
   "mimetype": "text/x-python",
   "name": "python",
   "nbconvert_exporter": "python",
   "pygments_lexer": "ipython3",
   "version": "3.13.5"
  }
 },
 "nbformat": 4,
 "nbformat_minor": 5
}
