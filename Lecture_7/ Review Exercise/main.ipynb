{
 "cells": [
  {
   "cell_type": "markdown",
   "id": "cbbac8d1-51f1-456e-9be8-e1b207667ed9",
   "metadata": {},
   "source": [
    "# Review Question 1"
   ]
  },
  {
   "cell_type": "code",
   "execution_count": 1,
   "id": "d0097806-d6b1-4c36-88ce-b2d5750bf679",
   "metadata": {},
   "outputs": [
    {
     "data": {
      "text/plain": [
       "'HELLO DAVE!'"
      ]
     },
     "execution_count": 1,
     "metadata": {},
     "output_type": "execute_result"
    }
   ],
   "source": [
    "import greeter\n",
    "\n",
    "greeter.greet(\"DAVE\")"
   ]
  },
  {
   "cell_type": "markdown",
   "id": "6973e4f7-4599-4b73-99b5-e0bd19206353",
   "metadata": {},
   "source": [
    "# Review Exercises\n"
   ]
  },
  {
   "cell_type": "code",
   "execution_count": null,
   "id": "10f7f422-498d-4e16-b824-75e1e75f14ac",
   "metadata": {},
   "outputs": [],
   "source": []
  }
 ],
 "metadata": {
  "kernelspec": {
   "display_name": "Python 3 (ipykernel)",
   "language": "python",
   "name": "python3"
  },
  "language_info": {
   "codemirror_mode": {
    "name": "ipython",
    "version": 3
   },
   "file_extension": ".py",
   "mimetype": "text/x-python",
   "name": "python",
   "nbconvert_exporter": "python",
   "pygments_lexer": "ipython3",
   "version": "3.13.5"
  }
 },
 "nbformat": 4,
 "nbformat_minor": 5
}
