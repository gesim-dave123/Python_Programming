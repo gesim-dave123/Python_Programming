{
 "cells": [
  {
   "cell_type": "markdown",
   "id": "57cfe70a-5f27-431e-9e74-12c035e9bb86",
   "metadata": {},
   "source": [
    "# Review Question 1\n",
    "__________________________________________________________________________________________________________________________\n",
    "\n"
   ]
  },
  {
   "cell_type": "code",
   "execution_count": 1,
   "id": "5a711e48-fa0e-4a54-be9e-0633dc6c64e1",
   "metadata": {},
   "outputs": [
    {
     "name": "stdout",
     "output_type": "stream",
     "text": [
      "20\n"
     ]
    }
   ],
   "source": [
    "sentence = \"the very big fat cat\"\n",
    "print(len(sentence))"
   ]
  },
  {
   "cell_type": "code",
   "execution_count": 2,
   "id": "f58f1922-f068-43af-85bb-957a6333df5d",
   "metadata": {},
   "outputs": [
    {
     "name": "stdout",
     "output_type": "stream",
     "text": [
      "hotmaria clara\n"
     ]
    }
   ],
   "source": [
    "word1 = \"hot\"\n",
    "word2 = \"maria clara\"\n",
    "result = word1+word2 \n",
    "print(result)"
   ]
  },
  {
   "cell_type": "code",
   "execution_count": 3,
   "id": "4c16be74-ed49-4f8e-b987-dc48a64328a8",
   "metadata": {},
   "outputs": [
    {
     "name": "stdout",
     "output_type": "stream",
     "text": [
      "Jessica Soho\n"
     ]
    }
   ],
   "source": [
    "word3 = \"Jessica\"\n",
    "word4 = \"Soho\"\n",
    "result = word3+\" \"+word4\n",
    "print(result)"
   ]
  },
  {
   "cell_type": "code",
   "execution_count": 4,
   "id": "07519a09-b4aa-423c-84fb-6d0393c0bac3",
   "metadata": {},
   "outputs": [
    {
     "name": "stdout",
     "output_type": "stream",
     "text": [
      "fox\n"
     ]
    }
   ],
   "source": [
    "sentence = \"The quick brown fox jumped over the lazy dog\"\n",
    "print(sentence[16:19])"
   ]
  },
  {
   "cell_type": "markdown",
   "id": "65a63912-bae5-4bab-b128-31d23444e195",
   "metadata": {},
   "source": [
    "# Review Question 2\n",
    "______________________________________________________________________________________________________________________________\n"
   ]
  },
  {
   "cell_type": "code",
   "execution_count": 31,
   "id": "39816052-65d1-488d-bb9e-0550f19fed03",
   "metadata": {},
   "outputs": [
    {
     "name": "stdout",
     "output_type": "stream",
     "text": [
      "animals , badger , honeybee, honey badger\n"
     ]
    }
   ],
   "source": [
    "script1 = \"ANIMALS , BADGER , HONEYBEE, HONEY BADGER\"\n",
    "print(script1.lower())"
   ]
  },
  {
   "cell_type": "code",
   "execution_count": 32,
   "id": "802e2dff-53fa-4384-9823-df1276e3c80f",
   "metadata": {},
   "outputs": [
    {
     "name": "stdout",
     "output_type": "stream",
     "text": [
      "ANIMALS , BADGER , HONEYBEE, HONEY BADGER\n"
     ]
    }
   ],
   "source": [
    "script2 = \"animals , badger , honeybee, honey badger\"\n",
    "print(script2.upper())"
   ]
  },
  {
   "cell_type": "code",
   "execution_count": 33,
   "id": "6b191c75-2fd8-4507-bee5-7fe2e7d1d08d",
   "metadata": {},
   "outputs": [
    {
     "name": "stdout",
     "output_type": "stream",
     "text": [
      "Filet Mignon\n",
      "Brisket\n"
     ]
    }
   ],
   "source": [
    "string5 = \" Filet Mignon\"\n",
    "string6 = \"Brisket \"\n",
    "print(string5.strip())\n",
    "print(string6.strip())"
   ]
  },
  {
   "cell_type": "code",
   "execution_count": 34,
   "id": "48cda6bd-edbe-44ac-9fae-386a840f0532",
   "metadata": {},
   "outputs": [
    {
     "name": "stdout",
     "output_type": "stream",
     "text": [
      "False\n",
      "True\n"
     ]
    }
   ],
   "source": [
    "string7 = \"Becomes\"\n",
    "print(string7.startswith(\"be\"))\n",
    "string8 = \"becomes\"\n",
    "print(string8.startswith(\"be\"))"
   ]
  },
  {
   "cell_type": "code",
   "execution_count": 35,
   "id": "261c3b7f-cf49-4b48-ae34-29e33a1070bc",
   "metadata": {},
   "outputs": [
    {
     "name": "stdout",
     "output_type": "stream",
     "text": [
      "True\n",
      "True\n"
     ]
    }
   ],
   "source": [
    "string7 = \"Becomes\"\n",
    "string7 = \"be\" + string7[2:]\n",
    "print(string7.startswith(\"be\"))\n",
    "string8 = \"becomes\"\n",
    "print(string8.startswith(\"be\"))"
   ]
  },
  {
   "cell_type": "markdown",
   "id": "68672aef-1e6e-46fc-8918-2568a922c05c",
   "metadata": {},
   "source": [
    "# Review Question 3\n",
    "____________________________________________________________________________________________________________________________\n"
   ]
  },
  {
   "cell_type": "code",
   "execution_count": 36,
   "id": "784240eb-ce87-43b0-8f33-9b910b083ccb",
   "metadata": {},
   "outputs": [
    {
     "name": "stdin",
     "output_type": "stream",
     "text": [
      "Can I take you out for a date? yes\n"
     ]
    },
    {
     "name": "stdout",
     "output_type": "stream",
     "text": [
      "She said:  yes\n"
     ]
    }
   ],
   "source": [
    "prompt = \"Can I take you out for a date?\"\n",
    "user_input = input(prompt)\n",
    "print(\"She said: \",user_input)"
   ]
  },
  {
   "cell_type": "code",
   "execution_count": 37,
   "id": "ed8c3d40-c4c9-4ffe-b41b-314b70a263a5",
   "metadata": {},
   "outputs": [
    {
     "name": "stdin",
     "output_type": "stream",
     "text": [
      "What is your name? Raul\n"
     ]
    },
    {
     "name": "stdout",
     "output_type": "stream",
     "text": [
      "Your name in lowercase : raul\n"
     ]
    }
   ],
   "source": [
    "prompt = \"What is your name?\"\n",
    "user_input = input(prompt)\n",
    "print(\"Your name in lowercase :\",user_input.lower())"
   ]
  },
  {
   "cell_type": "code",
   "execution_count": 38,
   "id": "58e33347-085c-4e2a-9689-f0418b616ad0",
   "metadata": {},
   "outputs": [
    {
     "name": "stdin",
     "output_type": "stream",
     "text": [
      "What is the name of your dog? tyler\n"
     ]
    },
    {
     "name": "stdout",
     "output_type": "stream",
     "text": [
      "the number of characters in your dog's name is:  5\n"
     ]
    }
   ],
   "source": [
    "prompt = \"What is the name of your dog?\"\n",
    "dog_name = input(prompt)\n",
    "print(\"the number of characters in your dog's name is: \" ,len(dog_name))"
   ]
  },
  {
   "cell_type": "markdown",
   "id": "ac19cc04-a650-4796-820e-e1ba5cb87004",
   "metadata": {},
   "source": [
    "#  Review Question 4\n",
    "_____________________________________________________________________________________________________________________________\n"
   ]
  },
  {
   "cell_type": "code",
   "execution_count": 39,
   "id": "ed885e50-4e2a-47b1-a978-4b2817f8bc32",
   "metadata": {},
   "outputs": [
    {
     "name": "stdin",
     "output_type": "stream",
     "text": [
      "Tell me your name. zues\n"
     ]
    },
    {
     "name": "stdout",
     "output_type": "stream",
     "text": [
      "Zues\n"
     ]
    }
   ],
   "source": [
    "prompt = \"Tell me your name.\"\n",
    "name = input(prompt)\n",
    "result = name[0].upper() + name[1:]\n",
    "print(result)"
   ]
  },
  {
   "cell_type": "markdown",
   "id": "17b3650a-583d-40a8-93a8-588626f88824",
   "metadata": {},
   "source": [
    "# Review Question 5\n",
    "______________________________________________________________________________________________________________________________"
   ]
  },
  {
   "cell_type": "code",
   "execution_count": 48,
   "id": "349b6d6e-d78c-4ddc-a801-4f8488216269",
   "metadata": {},
   "outputs": [
    {
     "data": {
      "text/plain": [
       "12"
      ]
     },
     "execution_count": 48,
     "metadata": {},
     "output_type": "execute_result"
    }
   ],
   "source": [
    "string = \"4\"\n",
    "integer = int(string) * 3\n",
    "integer"
   ]
  },
  {
   "cell_type": "code",
   "execution_count": 47,
   "id": "307921e8-54a1-478e-ba5c-c151e4742078",
   "metadata": {},
   "outputs": [
    {
     "data": {
      "text/plain": [
       "23.450000000000003"
      ]
     },
     "execution_count": 47,
     "metadata": {},
     "output_type": "execute_result"
    }
   ],
   "source": [
    "string = \"4.69\"\n",
    "number = float(string) * 5\n",
    "number\n"
   ]
  },
  {
   "cell_type": "code",
   "execution_count": 45,
   "id": "452ed2ec-8c26-40f6-b4a1-196000845c20",
   "metadata": {},
   "outputs": [
    {
     "name": "stdout",
     "output_type": "stream",
     "text": [
      "1235 5.43\n"
     ]
    }
   ],
   "source": [
    "string = \"1235\"\n",
    "number = 5.43\n",
    "print(str(string), str(number))"
   ]
  },
  {
   "cell_type": "code",
   "execution_count": 51,
   "id": "88579c70-d04f-4fed-b86d-30c4f7bc9be6",
   "metadata": {},
   "outputs": [
    {
     "name": "stdin",
     "output_type": "stream",
     "text": [
      "Enter first number 4\n",
      "Enter secnd number 3\n"
     ]
    },
    {
     "data": {
      "text/plain": [
       "12"
      ]
     },
     "execution_count": 51,
     "metadata": {},
     "output_type": "execute_result"
    }
   ],
   "source": [
    "prompt1 = \"Enter first number\"\n",
    "fnum = int(input(prompt1))\n",
    "prompt2 = \"Enter secnd number\"\n",
    "snum =int(input(prompt2))\n",
    "result =  fnum * snum\n",
    "result\n"
   ]
  },
  {
   "cell_type": "markdown",
   "id": "1a667923-0f5d-4d63-8c19-e599f6ad4f7f",
   "metadata": {},
   "source": [
    "# Review Question 6 \n",
    "________________________________________________________________________________________________________________________\n"
   ]
  },
  {
   "cell_type": "code",
   "execution_count": 52,
   "id": "7fb08ada-f8f1-47c5-8159-146a5335aa4e",
   "metadata": {},
   "outputs": [
    {
     "data": {
      "text/plain": [
       "-1"
      ]
     },
     "execution_count": 52,
     "metadata": {},
     "output_type": "execute_result"
    }
   ],
   "source": [
    "string = \"AAA\"\n",
    "string.find(\"a\")"
   ]
  },
  {
   "cell_type": "code",
   "execution_count": 1,
   "id": "4c48e76b-e3bd-4ed5-a58e-279c03383628",
   "metadata": {},
   "outputs": [
    {
     "data": {
      "text/plain": [
       "'Somebody yaid yomething to Samara'"
      ]
     },
     "execution_count": 1,
     "metadata": {},
     "output_type": "execute_result"
    }
   ],
   "source": [
    "string=\"Somebody said something to Samara\"\n",
    "string.replace('s','y')"
   ]
  },
  {
   "cell_type": "code",
   "execution_count": null,
   "id": "88e37f9f-845d-49d2-ad16-b526e160c26c",
   "metadata": {},
   "outputs": [],
   "source": [
    "prompt=\"type something: \"\n",
    "user_input= input(prompt)\n",
    "user_input.find(\"cat\")\n"
   ]
  },
  {
   "cell_type": "markdown",
   "id": "dd0131c4-2c13-4703-8c85-df16ac6e2a53",
   "metadata": {},
   "source": [
    "# Review Question 7\n",
    "___________________________________________________________________________________________\n"
   ]
  },
  {
   "cell_type": "code",
   "execution_count": 1,
   "id": "19acc41f-cc16-4305-8125-d5a50570f78f",
   "metadata": {},
   "outputs": [
    {
     "name": "stdin",
     "output_type": "stream",
     "text": [
      "Enter some text:  I like to eat egg and spam\n"
     ]
    },
    {
     "data": {
      "text/plain": [
       "'I 1ik3 70 347 3gg 4nd 5p4m'"
      ]
     },
     "execution_count": 1,
     "metadata": {},
     "output_type": "execute_result"
    }
   ],
   "source": [
    "prompt=\"Enter some text: \"\n",
    "user_input = input(prompt)\n",
    "user_input.replace('a','4').replace('b','8').replace('e','3').replace('l','1').replace('o','0').replace('s','5').replace('t','7')"
   ]
  },
  {
   "cell_type": "code",
   "execution_count": null,
   "id": "87b91838-d36d-4223-9fc2-7a71bf406dc9",
   "metadata": {},
   "outputs": [],
   "source": []
  },
  {
   "cell_type": "code",
   "execution_count": null,
   "id": "e3b2312f-408a-4863-b9ff-fda21dac1df0",
   "metadata": {},
   "outputs": [],
   "source": []
  }
 ],
 "metadata": {
  "kernelspec": {
   "display_name": "Python 3 (ipykernel)",
   "language": "python",
   "name": "python3"
  },
  "language_info": {
   "codemirror_mode": {
    "name": "ipython",
    "version": 3
   },
   "file_extension": ".py",
   "mimetype": "text/x-python",
   "name": "python",
   "nbconvert_exporter": "python",
   "pygments_lexer": "ipython3",
   "version": "3.13.5"
  }
 },
 "nbformat": 4,
 "nbformat_minor": 5
}
