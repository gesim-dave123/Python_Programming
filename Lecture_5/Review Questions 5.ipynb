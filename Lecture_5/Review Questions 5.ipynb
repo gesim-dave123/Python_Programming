{
 "cells": [
  {
   "cell_type": "markdown",
   "id": "40310fd9-ad6c-4204-a143-168e0c9b4d6b",
   "metadata": {},
   "source": [
    "# ReviewQuestion 1"
   ]
  },
  {
   "cell_type": "code",
   "execution_count": 2,
   "id": "8d3b9e9c-f9e2-4d03-93f8-3adfd40bcc8d",
   "metadata": {},
   "outputs": [
    {
     "data": {
      "text/plain": [
       "('FIRST', 'SECOND', 'THIRD')"
      ]
     },
     "execution_count": 2,
     "metadata": {},
     "output_type": "execute_result"
    }
   ],
   "source": [
    "cardinal_number = (\"FIRST\",\"SECOND\",\"THIRD\")\n",
    "cardinal_number"
   ]
  },
  {
   "cell_type": "code",
   "execution_count": 3,
   "id": "3e9dc6bd-39f1-4657-9bc1-d64920446d47",
   "metadata": {},
   "outputs": [
    {
     "name": "stdout",
     "output_type": "stream",
     "text": [
      "Position1: FIRST\n",
      "Position 2: SECOND\n",
      "Position 3: THIRD\n"
     ]
    }
   ],
   "source": [
    "position1,position2,position3 = cardinal_number\n",
    "print(f\"Position1: {position1}\\nPosition 2: {position2}\\nPosition 3: {position3}\")"
   ]
  },
  {
   "cell_type": "code",
   "execution_count": 6,
   "id": "4c9552ae-011f-467f-9f80-f8470f2e3743",
   "metadata": {},
   "outputs": [
    {
     "name": "stdout",
     "output_type": "stream",
     "text": [
      "('C', 'H', 'R', 'S', 'I', 'T', 'I', 'A', 'N')\n"
     ]
    }
   ],
   "source": [
    "my_name = tuple(\"CHRSITIAN\")\n",
    "print(my_name)"
   ]
  },
  {
   "cell_type": "code",
   "execution_count": 7,
   "id": "5809664a-abff-420e-9742-8cfeea376d6d",
   "metadata": {},
   "outputs": [
    {
     "name": "stdout",
     "output_type": "stream",
     "text": [
      "('H', 'R', 'S', 'I', 'T', 'I', 'A', 'N')\n"
     ]
    }
   ],
   "source": [
    "name_without_first_letter = my_name[1:]\n",
    "print(name_without_first_letter)"
   ]
  },
  {
   "cell_type": "code",
   "execution_count": 8,
   "id": "b7895268-c8f1-444b-95cc-eeb2207cf96f",
   "metadata": {},
   "outputs": [
    {
     "data": {
      "text/plain": [
       "False"
      ]
     },
     "execution_count": 8,
     "metadata": {},
     "output_type": "execute_result"
    }
   ],
   "source": [
    "\"X\" in my_name"
   ]
  },
  {
   "cell_type": "markdown",
   "id": "419e1d66-fabb-4864-9f27-4898f8b85b43",
   "metadata": {},
   "source": [
    "# Review Question 2"
   ]
  },
  {
   "cell_type": "code",
   "execution_count": 18,
   "id": "db85ba36-61ef-4a70-bae1-d48bc589701b",
   "metadata": {},
   "outputs": [
    {
     "name": "stdout",
     "output_type": "stream",
     "text": [
      "['RICE', 'BEANS']\n"
     ]
    }
   ],
   "source": [
    "FOOD = [\"RICE\",\"BEANS\"]"
   ]
  },
  {
   "cell_type": "code",
   "execution_count": 19,
   "id": "682ef802-b3ab-4def-a3a1-e8f5b778fbef",
   "metadata": {},
   "outputs": [
    {
     "name": "stdout",
     "output_type": "stream",
     "text": [
      "['RICE', 'BEANS', 'BROCCOLI']\n"
     ]
    }
   ],
   "source": [
    "FOOD.append(\"BROCCOLI\")"
   ]
  },
  {
   "cell_type": "code",
   "execution_count": 20,
   "id": "679bac8c-a2df-4e3a-803b-76cb5f720a92",
   "metadata": {},
   "outputs": [
    {
     "name": "stdout",
     "output_type": "stream",
     "text": [
      "['RICE', 'BEANS', 'BROCCOLI', 'BREAD', 'PANDESAL']\n"
     ]
    }
   ],
   "source": [
    "FOOD.extend([\"BREAD\",\"PANDESAL\"])"
   ]
  },
  {
   "cell_type": "code",
   "execution_count": 21,
   "id": "b1b5bed5-12e0-4f98-a84f-92fd23b65580",
   "metadata": {},
   "outputs": [
    {
     "name": "stdout",
     "output_type": "stream",
     "text": [
      "['RICE', 'BEANS']\n"
     ]
    }
   ],
   "source": [
    "print(FOOD[0:2])"
   ]
  },
  {
   "cell_type": "code",
   "execution_count": 26,
   "id": "8cb5888f-066e-4758-9907-4312d39d992d",
   "metadata": {},
   "outputs": [
    {
     "name": "stdout",
     "output_type": "stream",
     "text": [
      "PANDESAL\n"
     ]
    }
   ],
   "source": [
    "print(FOOD[len(FOOD)-1])"
   ]
  },
  {
   "cell_type": "code",
   "execution_count": 27,
   "id": "31b4997c-79d7-4a87-b034-c7868c3ec165",
   "metadata": {},
   "outputs": [
    {
     "name": "stdout",
     "output_type": "stream",
     "text": [
      "['EGGS', 'FRUIT', 'ORANGE JUICE']\n"
     ]
    }
   ],
   "source": [
    "String = \"EGGS,FRUIT,ORANGE JUICE\"\n",
    "breakfast = String.split(\",\")\n",
    "print(breakfast)"
   ]
  },
  {
   "cell_type": "code",
   "execution_count": 28,
   "id": "584a1634-fc0b-4d41-a42b-a6f6dcffdeea",
   "metadata": {},
   "outputs": [
    {
     "name": "stdout",
     "output_type": "stream",
     "text": [
      "3\n"
     ]
    }
   ],
   "source": [
    "print(len(breakfast))"
   ]
  },
  {
   "cell_type": "code",
   "execution_count": 31,
   "id": "52a166da-a973-488e-af65-25ca0b37efe4",
   "metadata": {},
   "outputs": [
    {
     "name": "stdout",
     "output_type": "stream",
     "text": [
      "[4, 5, 12]\n"
     ]
    }
   ],
   "source": [
    "length = [len(n) for n in breakfast]\n",
    "print(length)"
   ]
  },
  {
   "cell_type": "markdown",
   "id": "5f341b11-695c-4e7c-ba43-b34f9e504ebf",
   "metadata": {},
   "source": [
    "# Review Question 3"
   ]
  },
  {
   "cell_type": "code",
   "execution_count": 32,
   "id": "d1a9d4a0-c490-427c-88e9-fadfb45032a8",
   "metadata": {},
   "outputs": [
    {
     "name": "stdout",
     "output_type": "stream",
     "text": [
      "((1, 2), (3, 4))\n"
     ]
    }
   ],
   "source": [
    "Tuple_Data = ((1,2),(3,4))\n",
    "print(Tuple_Data)"
   ]
  },
  {
   "cell_type": "code",
   "execution_count": 21,
   "id": "b1bf3161-61c6-4760-bfce-ff51f0fef34d",
   "metadata": {},
   "outputs": [
    {
     "name": "stdout",
     "output_type": "stream",
     "text": [
      "Row 1 sum : 3\n",
      "Row 2 sum : 7\n"
     ]
    }
   ],
   "source": [
    "counter = 1;\n",
    "for n in Tuple_Data:\n",
    "    print(f\"Row {counter} sum : {sum(n)}\")\n",
    "    counter = counter + 1\n"
   ]
  },
  {
   "cell_type": "code",
   "execution_count": 22,
   "id": "b82ded93-9bb5-4730-83f3-e123d943a718",
   "metadata": {},
   "outputs": [
    {
     "name": "stdout",
     "output_type": "stream",
     "text": [
      "Original: [1, 2, 3, 4, 5]\n",
      "Copy:     [1, 2, 3, 4, 5]\n"
     ]
    }
   ],
   "source": [
    "numbers = [1, 2, 3, 4, 5]\n",
    "numbers_copy = numbers[:]\n",
    "print(\"Original:\", numbers)\n",
    "print(\"Copy:    \", numbers_copy)"
   ]
  },
  {
   "cell_type": "code",
   "execution_count": 5,
   "id": "912bb987-6328-4bb8-8b80-c7575bc9eda5",
   "metadata": {},
   "outputs": [
    {
     "data": {
      "text/plain": [
       "[1, 2, 3, 4, 5]"
      ]
     },
     "execution_count": 5,
     "metadata": {},
     "output_type": "execute_result"
    }
   ],
   "source": [
    "numbers = [1, 2, 3, 4, 5]\n",
    "numbers.sort()\n",
    "numbers\n",
    "\n"
   ]
  },
  {
   "cell_type": "markdown",
   "id": "27b06d91-a43f-4b56-9345-18fb24820a6f",
   "metadata": {},
   "source": [
    "# Challenge: List of List"
   ]
  },
  {
   "cell_type": "code",
   "execution_count": 6,
   "id": "651fc3a7-bc2c-4fa7-a7de-38153d93b0ec",
   "metadata": {},
   "outputs": [
    {
     "data": {
      "text/plain": [
       "[['California Institute of Technoogy', 2175, 37704],\n",
       " ['Harvard', 19627, 39849],\n",
       " ['Massachstts Institute of Technology', 10566, 40732],\n",
       " ['Princeton', 7802, 37000],\n",
       " ['Rice', 5879, 35551],\n",
       " ['Standford', 19535, 40569],\n",
       " ['Yale', 11701, 40500]]"
      ]
     },
     "execution_count": 6,
     "metadata": {},
     "output_type": "execute_result"
    }
   ],
   "source": [
    "universities = [['California Institute of Technoogy', 2175,37704],\n",
    "               ['Harvard',19627,39849],\n",
    "               ['Massachstts Institute of Technology',10566,40732],\n",
    "               ['Princeton',7802,37000],\n",
    "               ['Rice',5879,35551],\n",
    "               ['Standford',19535,40569],\n",
    "               ['Yale',11701,40500]]\n",
    "universities"
   ]
  },
  {
   "cell_type": "markdown",
   "id": "7f3aa073-b02e-45fb-9cc4-247029806f2b",
   "metadata": {},
   "source": [
    "# Challenge : Wax Poetic"
   ]
  },
  {
   "cell_type": "code",
   "execution_count": 10,
   "id": "d89fba43-5d83-4e56-9c56-79bfba4217e3",
   "metadata": {},
   "outputs": [
    {
     "name": "stdout",
     "output_type": "stream",
     "text": [
      "['FOSSIL', 'HORSE', 'AARDVARK', 'JUDGE', 'CHEF', 'MANGO', 'EXTROVERT', 'GORILLA']\n",
      "['KICKS', 'JINGLES', 'BOUNCES', 'SLURPS', 'MEOWS', 'EXPLODES', 'CURDLES']\n",
      "['FURRY', 'BALDING', 'INCREDOLOUS', 'FRAGNANT', 'EXUBERANT', 'GLISTENING']\n",
      "['AGAINST', 'AFTER', 'INTO', 'BENEATH', 'UPON', 'FOR', 'IN', 'LIKE', 'OVER', 'WITHIN']\n",
      "['CURIOUSLY', 'FURIOUSLY', 'SENSUOUSLY', 'EXTRAVAGANTLY', 'TANTALIZINGLY']\n"
     ]
    }
   ],
   "source": [
    "nouns = [\"FOSSIL\",\"HORSE\",\"AARDVARK\",\"JUDGE\",\"CHEF\",\"MANGO\",\"EXTROVERT\",\"GORILLA\"]\n",
    "verbs = [\"KICKS\",\"JINGLES\",\"BOUNCES\",\"SLURPS\",\"MEOWS\",\"EXPLODES\",\"CURDLES\"]\n",
    "adjectives = [\"FURRY\",\"BALDING\",\"INCREDOLOUS\",\"FRAGNANT\",\"EXUBERANT\",\"GLISTENING\"]\n",
    "prepositions= [\"AGAINST\",\"AFTER\",\"INTO\",\"BENEATH\",\"UPON\",\"FOR\",\"IN\",\"LIKE\",\"OVER\",\"WITHIN\"]\n",
    "adverbs  = [\"CURIOUSLY\",\"FURIOUSLY\",\"SENSUOUSLY\",\"EXTRAVAGANTLY\",\"TANTALIZINGLY\"]"
   ]
  },
  {
   "cell_type": "markdown",
   "id": "c7e56b97-f7eb-413c-adb8-ff186c371b2c",
   "metadata": {},
   "source": [
    "# Review Questions 4"
   ]
  },
  {
   "cell_type": "code",
   "execution_count": 28,
   "id": "e941ee82-6245-46bb-9774-769ab7357e3b",
   "metadata": {},
   "outputs": [],
   "source": [
    "captains = {}"
   ]
  },
  {
   "cell_type": "code",
   "execution_count": 34,
   "id": "0a4e983c-261e-40d6-9aa8-9432f12fb6af",
   "metadata": {},
   "outputs": [
    {
     "name": "stdout",
     "output_type": "stream",
     "text": [
      "{'Enterprise': 'Picard', 'Voyager': 'Janeway', 'Defiant': 'Sisko'}\n"
     ]
    }
   ],
   "source": [
    "captains['Enterprise'] = 'Picard'\n",
    "captains['Voyager'] = 'Janeway'\n",
    "captains['Defiant'] = 'Sisko'\n",
    "print(captains)"
   ]
  },
  {
   "cell_type": "code",
   "execution_count": 35,
   "id": "f8d98628-d2b1-4a6e-b4da-9872790914cd",
   "metadata": {},
   "outputs": [
    {
     "data": {
      "text/plain": [
       "{'Enterprise': 'Picard',\n",
       " 'Voyager': 'Janeway',\n",
       " 'Defiant': 'Sisko',\n",
       " 'Discovery': ''}"
      ]
     },
     "execution_count": 35,
     "metadata": {},
     "output_type": "execute_result"
    }
   ],
   "source": [
    "if 'Enterprise' not in captains:captains['Enterprise'] = ''\n",
    "if 'Discovery' not in captains:captains['Discovery'] = ''\n",
    "captains\n",
    "\n"
   ]
  },
  {
   "cell_type": "code",
   "execution_count": 36,
   "id": "0b18757d-c461-4d17-a5be-76618f6cf2d6",
   "metadata": {},
   "outputs": [
    {
     "name": "stdout",
     "output_type": "stream",
     "text": [
      "The Enterprise is captained by Picard\n",
      "The Voyager is captained by Janeway\n",
      "The Defiant is captained by Sisko\n",
      "The Discovery is captained by \n"
     ]
    }
   ],
   "source": [
    "for key in captains:print(f\"The {key} is captained by {captains[key]}\")"
   ]
  },
  {
   "cell_type": "code",
   "execution_count": 37,
   "id": "dcbf32a9-d1c0-410f-bfd4-8fa1a0719676",
   "metadata": {},
   "outputs": [],
   "source": [
    "del captains['Discovery']"
   ]
  },
  {
   "cell_type": "code",
   "execution_count": 39,
   "id": "8883fab2-c22f-4d2f-9ad7-c821abbd8755",
   "metadata": {},
   "outputs": [
    {
     "data": {
      "text/plain": [
       "{'Enterprise': 'Picard', 'Voyager': 'Janeway', 'Defiant': 'Sisko'}"
      ]
     },
     "execution_count": 39,
     "metadata": {},
     "output_type": "execute_result"
    }
   ],
   "source": [
    "dictionary = dict(captains)\n",
    "dictionary"
   ]
  },
  {
   "cell_type": "markdown",
   "id": "3c5d98e1-2374-4bdc-8a2f-5be4c0a2cd5e",
   "metadata": {},
   "source": [
    "# Challenge: Capital City Loop"
   ]
  },
  {
   "cell_type": "code",
   "execution_count": null,
   "id": "3fa6d0b2-6c2a-4f00-a428-1c1e217e1fa6",
   "metadata": {},
   "outputs": [
    {
     "name": "stdout",
     "output_type": "stream",
     "text": [
      "Type 'exit' anytime to quit.\n",
      "\n"
     ]
    },
    {
     "name": "stdin",
     "output_type": "stream",
     "text": [
      "What is the capital of Alabama?  Montgomery\n"
     ]
    },
    {
     "name": "stdout",
     "output_type": "stream",
     "text": [
      " Correct!\n",
      "\n"
     ]
    },
    {
     "name": "stdin",
     "output_type": "stream",
     "text": [
      "What is the capital of Alaska?  juneue\n"
     ]
    },
    {
     "name": "stdout",
     "output_type": "stream",
     "text": [
      "Wrong! The capital of Alaska is Juneau.\n",
      "\n"
     ]
    }
   ],
   "source": [
    "capitals_dict = {\n",
    "    'Alabama': 'Montgomery',\n",
    "    'Alaska': 'Juneau',\n",
    "    'Arizona': 'Phoenix',\n",
    "    'Arkansas': 'Little Rock',\n",
    "    'California': 'Sacramento',\n",
    "    'Colorado': 'Denver',\n",
    "    'Connecticut': 'Hartford',\n",
    "    'Delaware': 'Dover',\n",
    "    'Florida': 'Tallahassee',\n",
    "    'Georgia': 'Atlanta',\n",
    "}\n",
    "\n",
    "print(\"Type 'exit' anytime to quit.\\n\")\n",
    "\n",
    "for state, capital in capitals_dict.items():\n",
    "    answer = input(f\"What is the capital of {state}? \").strip()\n",
    "\n",
    "    if answer.lower() == \"exit\":\n",
    "        print(\"Exiting the quiz. Goodbye!\")\n",
    "        break\n",
    "    if answer.lower() == capital.lower():\n",
    "        print(\" Correct!\\n\")\n",
    "    else:\n",
    "        print(f\"Wrong! The capital of {state} is {capital}.\\n\")"
   ]
  },
  {
   "cell_type": "code",
   "execution_count": null,
   "id": "0e1d043c-c8d1-4ecd-8405-6e59077185ed",
   "metadata": {},
   "outputs": [],
   "source": []
  }
 ],
 "metadata": {
  "kernelspec": {
   "display_name": "Python 3 (ipykernel)",
   "language": "python",
   "name": "python3"
  },
  "language_info": {
   "codemirror_mode": {
    "name": "ipython",
    "version": 3
   },
   "file_extension": ".py",
   "mimetype": "text/x-python",
   "name": "python",
   "nbconvert_exporter": "python",
   "pygments_lexer": "ipython3",
   "version": "3.13.5"
  }
 },
 "nbformat": 4,
 "nbformat_minor": 5
}
